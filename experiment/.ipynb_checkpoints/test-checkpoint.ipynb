{
 "cells": [
  {
   "cell_type": "code",
   "execution_count": 1,
   "metadata": {},
   "outputs": [],
   "source": [
    "%matplotlib inline\n",
    "import torch\n",
    "from torch import nn, optim\n",
    "from torch.utils.data import Dataset, DataLoader\n",
    "import torchvision\n",
    "from torchvision.datasets import ImageFolder\n",
    "from torchvision import transforms\n",
    "from torchvision import models\n",
    "from torchvision import transforms, datasets\n",
    "import os\n",
    "\n",
    "import sys\n",
    "sys.path.append(\"..\") \n",
    "import d2lzh_pytorch as d2l\n",
    "import graduation_pytorch as gra\n",
    "\n",
    "device = torch.device('cuda' if torch.cuda.is_available() else 'cpu')"
   ]
  },
  {
   "cell_type": "code",
   "execution_count": 7,
   "metadata": {},
   "outputs": [],
   "source": [
    "from torch.nn import functional as F"
   ]
  },
  {
   "cell_type": "code",
   "execution_count": 8,
   "metadata": {},
   "outputs": [
    {
     "data": {
      "text/plain": [
       "<function torch._C._nn.avg_pool2d>"
      ]
     },
     "execution_count": 8,
     "metadata": {},
     "output_type": "execute_result"
    }
   ],
   "source": [
    "F.avg_pool2d"
   ]
  },
  {
   "cell_type": "code",
   "execution_count": 12,
   "metadata": {},
   "outputs": [],
   "source": [
    "class ClassA():\n",
    "    var1 = '两点水'\n",
    "    \n",
    "    @classmethod\n",
    "    def fun1(cls):\n",
    "        print('原var1:'+cls.var1)\n",
    "        cls.var2 = input('var1: ')"
   ]
  },
  {
   "cell_type": "code",
   "execution_count": 13,
   "metadata": {},
   "outputs": [
    {
     "name": "stdout",
     "output_type": "stream",
     "text": [
      "原var1:两点水\n",
      "var1: 555\n"
     ]
    }
   ],
   "source": [
    "ClassA.fun1()"
   ]
  },
  {
   "cell_type": "code",
   "execution_count": 14,
   "metadata": {},
   "outputs": [
    {
     "data": {
      "text/plain": [
       "'两点水'"
      ]
     },
     "execution_count": 14,
     "metadata": {},
     "output_type": "execute_result"
    }
   ],
   "source": [
    "ClassA.var1"
   ]
  },
  {
   "cell_type": "code",
   "execution_count": 15,
   "metadata": {},
   "outputs": [
    {
     "data": {
      "text/plain": [
       "'555'"
      ]
     },
     "execution_count": 15,
     "metadata": {},
     "output_type": "execute_result"
    }
   ],
   "source": [
    "ClassA.var2"
   ]
  },
  {
   "cell_type": "code",
   "execution_count": 16,
   "metadata": {},
   "outputs": [
    {
     "name": "stdout",
     "output_type": "stream",
     "text": [
      "['D:\\\\360downloads\\\\毕业论文\\\\pytorch', 'E:\\\\181818\\\\Anaconda\\\\python37.zip', 'E:\\\\181818\\\\Anaconda\\\\DLLs', 'E:\\\\181818\\\\Anaconda\\\\lib', 'E:\\\\181818\\\\Anaconda', '', 'C:\\\\Users\\\\TYTaO\\\\AppData\\\\Roaming\\\\Python\\\\Python37\\\\site-packages', 'E:\\\\181818\\\\Anaconda\\\\lib\\\\site-packages', 'E:\\\\181818\\\\Anaconda\\\\lib\\\\site-packages\\\\win32', 'E:\\\\181818\\\\Anaconda\\\\lib\\\\site-packages\\\\win32\\\\lib', 'E:\\\\181818\\\\Anaconda\\\\lib\\\\site-packages\\\\Pythonwin', 'E:\\\\181818\\\\Anaconda\\\\lib\\\\site-packages\\\\IPython\\\\extensions', 'C:\\\\Users\\\\TYTaO\\\\AppData\\\\Roaming\\\\SPB_16.6\\\\.ipython', '..']\n"
     ]
    }
   ],
   "source": [
    "import sys\n",
    "\n",
    "print(sys.path)"
   ]
  },
  {
   "cell_type": "code",
   "execution_count": 17,
   "metadata": {},
   "outputs": [
    {
     "name": "stdout",
     "output_type": "stream",
     "text": [
      "获取 name 值\n",
      "两点水\n",
      "\n",
      "\n",
      "设置 name 值\n",
      "获取 name 值\n",
      "三点水\n",
      "\n",
      "\n",
      "获取 name 值\n",
      "三点水\n",
      "\n",
      "\n",
      "5\n"
     ]
    }
   ],
   "source": [
    "class User(object):\n",
    "    def __init__(self, name='两点水', sex='男'):\n",
    "        self.sex = sex\n",
    "        self.name = name\n",
    "\n",
    "    def __get__(self, obj, objtype):\n",
    "        print('获取 name 值')\n",
    "        return self.name\n",
    "\n",
    "    def __set__(self, obj, val):\n",
    "        print('设置 name 值')\n",
    "        self.name = val\n",
    "\n",
    "\n",
    "class MyClass(object):\n",
    "    x = User('两点水', '男')\n",
    "    y = 5\n",
    "\n",
    "\n",
    "if __name__ == '__main__':\n",
    "    m = MyClass()\n",
    "    print(m.x)\n",
    "\n",
    "    print('\\n')\n",
    "\n",
    "    m.x = '三点水'\n",
    "    print(m.x)\n",
    "\n",
    "    print('\\n')\n",
    "\n",
    "    print(m.x)\n",
    "\n",
    "    print('\\n')\n",
    "\n",
    "    print(m.y)"
   ]
  },
  {
   "cell_type": "code",
   "execution_count": 19,
   "metadata": {},
   "outputs": [],
   "source": [
    "from torch.nn.parameter import Parameter\n",
    "p = 3\n",
    "p = Parameter(torch.ones(1)*p)"
   ]
  },
  {
   "cell_type": "code",
   "execution_count": 20,
   "metadata": {},
   "outputs": [
    {
     "data": {
      "text/plain": [
       "Parameter containing:\n",
       "tensor([3.], requires_grad=True)"
      ]
     },
     "execution_count": 20,
     "metadata": {},
     "output_type": "execute_result"
    }
   ],
   "source": [
    "p"
   ]
  },
  {
   "cell_type": "code",
   "execution_count": 4,
   "metadata": {},
   "outputs": [
    {
     "ename": "SyntaxError",
     "evalue": "invalid syntax (<ipython-input-4-9c88aabe3928>, line 4)",
     "output_type": "error",
     "traceback": [
      "\u001b[1;36m  File \u001b[1;32m\"<ipython-input-4-9c88aabe3928>\"\u001b[1;36m, line \u001b[1;32m4\u001b[0m\n\u001b[1;33m    global x = 1\u001b[0m\n\u001b[1;37m             ^\u001b[0m\n\u001b[1;31mSyntaxError\u001b[0m\u001b[1;31m:\u001b[0m invalid syntax\n"
     ]
    }
   ],
   "source": [
    "x = 0\n",
    "\n",
    "def change():\n",
    "    global x\n",
    "    x = 1\n",
    "change(x)\n",
    "print(x)"
   ]
  },
  {
   "cell_type": "code",
   "execution_count": null,
   "metadata": {},
   "outputs": [],
   "source": []
  }
 ],
 "metadata": {
  "kernelspec": {
   "display_name": "Python 3",
   "language": "python",
   "name": "python3"
  },
  "language_info": {
   "codemirror_mode": {
    "name": "ipython",
    "version": 3
   },
   "file_extension": ".py",
   "mimetype": "text/x-python",
   "name": "python",
   "nbconvert_exporter": "python",
   "pygments_lexer": "ipython3",
   "version": "3.7.1"
  }
 },
 "nbformat": 4,
 "nbformat_minor": 4
}
