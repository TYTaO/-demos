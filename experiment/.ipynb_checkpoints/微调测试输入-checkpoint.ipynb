{
 "cells": [
  {
   "cell_type": "code",
   "execution_count": 2,
   "metadata": {},
   "outputs": [],
   "source": [
    "%matplotlib inline\n",
    "import torch\n",
    "from torch import nn, optim\n",
    "from torch.utils.data import Dataset, DataLoader\n",
    "import torchvision\n",
    "from torchvision.datasets import ImageFolder\n",
    "from torchvision import transforms\n",
    "from torchvision import models\n",
    "import os\n",
    "from torchvision import datasets, models, transforms\n",
    "\n",
    "from torch.autograd import Variable\n",
    "\n",
    "import sys\n",
    "sys.path.append(\"..\") \n",
    "import d2lzh_pytorch as d2l\n",
    "\n",
    "device = torch.device('cuda' if torch.cuda.is_available() else 'cpu')\n"
   ]
  },
  {
   "cell_type": "code",
   "execution_count": 3,
   "metadata": {},
   "outputs": [],
   "source": [
    "# 预处理\n",
    "# 指定RGB三个通道的均值和方差来将图像通道归一化\n",
    "normalize = transforms.Normalize(mean=[0.485, 0.456, 0.406], std=[0.229, 0.224, 0.225])\n",
    "test_augs = transforms.Compose([\n",
    "        transforms.Resize(size=256),\n",
    "        transforms.CenterCrop(size=224),\n",
    "        transforms.ToTensor(),\n",
    "        normalize\n",
    "    ])"
   ]
  },
  {
   "cell_type": "code",
   "execution_count": 4,
   "metadata": {
    "scrolled": true
   },
   "outputs": [
    {
     "data": {
      "text/plain": [
       "'D:\\\\360downloads\\\\毕业论文\\\\pytorch'"
      ]
     },
     "execution_count": 4,
     "metadata": {},
     "output_type": "execute_result"
    }
   ],
   "source": [
    "pwd"
   ]
  },
  {
   "cell_type": "code",
   "execution_count": 5,
   "metadata": {},
   "outputs": [
    {
     "data": {
      "text/plain": [
       "['train']"
      ]
     },
     "execution_count": 5,
     "metadata": {},
     "output_type": "execute_result"
    }
   ],
   "source": [
    "data_dir = './test_database'\n",
    "os.listdir(os.path.join(data_dir, \"hotdog\")) # ['train', 'test']"
   ]
  },
  {
   "cell_type": "code",
   "execution_count": 6,
   "metadata": {},
   "outputs": [
    {
     "data": {
      "text/plain": [
       "Dataset ImageFolder\n",
       "    Number of datapoints: 260\n",
       "    Root Location: ./test_database\\hotdog/train\n",
       "    Transforms (if any): None\n",
       "    Target Transforms (if any): None"
      ]
     },
     "execution_count": 6,
     "metadata": {},
     "output_type": "execute_result"
    }
   ],
   "source": [
    "train_imgs = ImageFolder(os.path.join(data_dir, 'hotdog/train'))\n",
    "train_imgs"
   ]
  },
  {
   "cell_type": "code",
   "execution_count": 7,
   "metadata": {},
   "outputs": [],
   "source": [
    "data_dir = './database'\n",
    "test_iter = DataLoader(ImageFolder(os.path.join(data_dir, 'hotdog/train'), transform=test_augs),\n",
    "                            batch_size = 1, shuffle=True)"
   ]
  },
  {
   "cell_type": "code",
   "execution_count": 8,
   "metadata": {},
   "outputs": [],
   "source": [
    "pretrained_net = models.resnet18(pretrained=True)\n",
    "pretrained_net.fc = nn.Linear(512, 2)\n",
    "PATH = \"./my_model/hotdog_fine-tune.pt\"\n",
    "pretrained_net.load_state_dict(torch.load(PATH))\n",
    "pretrained_net = pretrained_net.eval()"
   ]
  },
  {
   "cell_type": "code",
   "execution_count": 9,
   "metadata": {},
   "outputs": [],
   "source": [
    "# pretrained_net"
   ]
  },
  {
   "cell_type": "code",
   "execution_count": 10,
   "metadata": {},
   "outputs": [],
   "source": [
    "# pretrained_net.fc.parameters()"
   ]
  },
  {
   "cell_type": "code",
   "execution_count": 11,
   "metadata": {},
   "outputs": [
    {
     "name": "stdout",
     "output_type": "stream",
     "text": [
      "tensor([[ 5.6328, -5.2088]], device='cuda:0', grad_fn=<AddmmBackward>)\n",
      "tensor([[ 10.9124, -11.3207]], device='cuda:0', grad_fn=<AddmmBackward>)\n",
      "tensor([[-5.0996,  4.8077]], device='cuda:0', grad_fn=<AddmmBackward>)\n",
      "tensor([[ 6.5515, -7.3525]], device='cuda:0', grad_fn=<AddmmBackward>)\n",
      "tensor([[-10.2562,  10.7103]], device='cuda:0', grad_fn=<AddmmBackward>)\n",
      "1.0\n"
     ]
    }
   ],
   "source": [
    "data_dir = './database'\n",
    "test_iter = DataLoader(ImageFolder(os.path.join(data_dir, 'hotdog/train'), transform=test_augs),\n",
    "                            batch_size = 1, shuffle=True)\n",
    "test_acc_sum, n = 0.0, 0\n",
    "# 输入\n",
    "pretrained_net = pretrained_net.to(device)\n",
    "\n",
    "i = 5\n",
    "for X, y in test_iter:\n",
    "    if(i == 0):\n",
    "        break\n",
    "    X = X.to(device)\n",
    "    y = y.to(device)\n",
    "    y_hat = pretrained_net(X)\n",
    "    print(y_hat)\n",
    "#     print(\"预测:\",y_hat.argmax(dim=1))\n",
    "#     print(\"标签:\",y)\n",
    "#     print(y_hat.shape)\n",
    "#     print(y)\n",
    "    test_acc_sum += (y_hat.argmax(dim=1) == y).sum().cpu().item()\n",
    "    i = i-1\n",
    "#     print(y.shape)\n",
    "    n += y.shape[0]\n",
    "print(test_acc_sum / n)"
   ]
  },
  {
   "cell_type": "markdown",
   "metadata": {},
   "source": [
    "## 读取一张图片并预处理"
   ]
  },
  {
   "cell_type": "code",
   "execution_count": 12,
   "metadata": {},
   "outputs": [],
   "source": [
    "img_path = 'database/hotdog/train/hotdog/785.png'\n",
    "def load_query_image(img_path):\n",
    "    test_augs = transforms.Compose([\n",
    "            transforms.Resize(size=256),\n",
    "            transforms.CenterCrop(size=224),\n",
    "            transforms.ToTensor(),\n",
    "            normalize\n",
    "        ])\n",
    "    query_image = datasets.folder.default_loader(img_path)\n",
    "    query_image = test_augs(query_image)\n",
    "    query_image = query_image.view(-1,3,224,224) # 3,224,224 是预设的 要输入给网络的\n",
    "    return query_image"
   ]
  },
  {
   "cell_type": "code",
   "execution_count": 13,
   "metadata": {},
   "outputs": [],
   "source": [
    "query_image = load_query_image(img_path)"
   ]
  },
  {
   "cell_type": "code",
   "execution_count": 14,
   "metadata": {},
   "outputs": [],
   "source": [
    "# query_image = query_image.view(-1,3,224,224) # 3,224,224 是预设的 要输入给网络的"
   ]
  },
  {
   "cell_type": "code",
   "execution_count": 15,
   "metadata": {},
   "outputs": [
    {
     "data": {
      "text/plain": [
       "torch.Size([1, 3, 224, 224])"
      ]
     },
     "execution_count": 15,
     "metadata": {},
     "output_type": "execute_result"
    }
   ],
   "source": [
    "query_image.shape"
   ]
  },
  {
   "cell_type": "code",
   "execution_count": 16,
   "metadata": {},
   "outputs": [],
   "source": [
    "query_image = query_image.to(device)"
   ]
  },
  {
   "cell_type": "code",
   "execution_count": 17,
   "metadata": {},
   "outputs": [],
   "source": [
    "output = pretrained_net(query_image)"
   ]
  },
  {
   "cell_type": "code",
   "execution_count": 18,
   "metadata": {},
   "outputs": [
    {
     "data": {
      "text/plain": [
       "tensor([[ 5.2268, -5.2144]], device='cuda:0', grad_fn=<AddmmBackward>)"
      ]
     },
     "execution_count": 18,
     "metadata": {},
     "output_type": "execute_result"
    }
   ],
   "source": [
    "output"
   ]
  },
  {
   "cell_type": "code",
   "execution_count": 19,
   "metadata": {},
   "outputs": [],
   "source": [
    "pretrained_net = pretrained_net.to('cpu')\n",
    "# remove the final fc layer\n",
    "pretrained_net.fc = nn.Sequential()"
   ]
  },
  {
   "cell_type": "code",
   "execution_count": 20,
   "metadata": {},
   "outputs": [
    {
     "data": {
      "text/plain": [
       "ResNet(\n",
       "  (conv1): Conv2d(3, 64, kernel_size=(7, 7), stride=(2, 2), padding=(3, 3), bias=False)\n",
       "  (bn1): BatchNorm2d(64, eps=1e-05, momentum=0.1, affine=True, track_running_stats=True)\n",
       "  (relu): ReLU(inplace)\n",
       "  (maxpool): MaxPool2d(kernel_size=3, stride=2, padding=1, dilation=1, ceil_mode=False)\n",
       "  (layer1): Sequential(\n",
       "    (0): BasicBlock(\n",
       "      (conv1): Conv2d(64, 64, kernel_size=(3, 3), stride=(1, 1), padding=(1, 1), bias=False)\n",
       "      (bn1): BatchNorm2d(64, eps=1e-05, momentum=0.1, affine=True, track_running_stats=True)\n",
       "      (relu): ReLU(inplace)\n",
       "      (conv2): Conv2d(64, 64, kernel_size=(3, 3), stride=(1, 1), padding=(1, 1), bias=False)\n",
       "      (bn2): BatchNorm2d(64, eps=1e-05, momentum=0.1, affine=True, track_running_stats=True)\n",
       "    )\n",
       "    (1): BasicBlock(\n",
       "      (conv1): Conv2d(64, 64, kernel_size=(3, 3), stride=(1, 1), padding=(1, 1), bias=False)\n",
       "      (bn1): BatchNorm2d(64, eps=1e-05, momentum=0.1, affine=True, track_running_stats=True)\n",
       "      (relu): ReLU(inplace)\n",
       "      (conv2): Conv2d(64, 64, kernel_size=(3, 3), stride=(1, 1), padding=(1, 1), bias=False)\n",
       "      (bn2): BatchNorm2d(64, eps=1e-05, momentum=0.1, affine=True, track_running_stats=True)\n",
       "    )\n",
       "  )\n",
       "  (layer2): Sequential(\n",
       "    (0): BasicBlock(\n",
       "      (conv1): Conv2d(64, 128, kernel_size=(3, 3), stride=(2, 2), padding=(1, 1), bias=False)\n",
       "      (bn1): BatchNorm2d(128, eps=1e-05, momentum=0.1, affine=True, track_running_stats=True)\n",
       "      (relu): ReLU(inplace)\n",
       "      (conv2): Conv2d(128, 128, kernel_size=(3, 3), stride=(1, 1), padding=(1, 1), bias=False)\n",
       "      (bn2): BatchNorm2d(128, eps=1e-05, momentum=0.1, affine=True, track_running_stats=True)\n",
       "      (downsample): Sequential(\n",
       "        (0): Conv2d(64, 128, kernel_size=(1, 1), stride=(2, 2), bias=False)\n",
       "        (1): BatchNorm2d(128, eps=1e-05, momentum=0.1, affine=True, track_running_stats=True)\n",
       "      )\n",
       "    )\n",
       "    (1): BasicBlock(\n",
       "      (conv1): Conv2d(128, 128, kernel_size=(3, 3), stride=(1, 1), padding=(1, 1), bias=False)\n",
       "      (bn1): BatchNorm2d(128, eps=1e-05, momentum=0.1, affine=True, track_running_stats=True)\n",
       "      (relu): ReLU(inplace)\n",
       "      (conv2): Conv2d(128, 128, kernel_size=(3, 3), stride=(1, 1), padding=(1, 1), bias=False)\n",
       "      (bn2): BatchNorm2d(128, eps=1e-05, momentum=0.1, affine=True, track_running_stats=True)\n",
       "    )\n",
       "  )\n",
       "  (layer3): Sequential(\n",
       "    (0): BasicBlock(\n",
       "      (conv1): Conv2d(128, 256, kernel_size=(3, 3), stride=(2, 2), padding=(1, 1), bias=False)\n",
       "      (bn1): BatchNorm2d(256, eps=1e-05, momentum=0.1, affine=True, track_running_stats=True)\n",
       "      (relu): ReLU(inplace)\n",
       "      (conv2): Conv2d(256, 256, kernel_size=(3, 3), stride=(1, 1), padding=(1, 1), bias=False)\n",
       "      (bn2): BatchNorm2d(256, eps=1e-05, momentum=0.1, affine=True, track_running_stats=True)\n",
       "      (downsample): Sequential(\n",
       "        (0): Conv2d(128, 256, kernel_size=(1, 1), stride=(2, 2), bias=False)\n",
       "        (1): BatchNorm2d(256, eps=1e-05, momentum=0.1, affine=True, track_running_stats=True)\n",
       "      )\n",
       "    )\n",
       "    (1): BasicBlock(\n",
       "      (conv1): Conv2d(256, 256, kernel_size=(3, 3), stride=(1, 1), padding=(1, 1), bias=False)\n",
       "      (bn1): BatchNorm2d(256, eps=1e-05, momentum=0.1, affine=True, track_running_stats=True)\n",
       "      (relu): ReLU(inplace)\n",
       "      (conv2): Conv2d(256, 256, kernel_size=(3, 3), stride=(1, 1), padding=(1, 1), bias=False)\n",
       "      (bn2): BatchNorm2d(256, eps=1e-05, momentum=0.1, affine=True, track_running_stats=True)\n",
       "    )\n",
       "  )\n",
       "  (layer4): Sequential(\n",
       "    (0): BasicBlock(\n",
       "      (conv1): Conv2d(256, 512, kernel_size=(3, 3), stride=(2, 2), padding=(1, 1), bias=False)\n",
       "      (bn1): BatchNorm2d(512, eps=1e-05, momentum=0.1, affine=True, track_running_stats=True)\n",
       "      (relu): ReLU(inplace)\n",
       "      (conv2): Conv2d(512, 512, kernel_size=(3, 3), stride=(1, 1), padding=(1, 1), bias=False)\n",
       "      (bn2): BatchNorm2d(512, eps=1e-05, momentum=0.1, affine=True, track_running_stats=True)\n",
       "      (downsample): Sequential(\n",
       "        (0): Conv2d(256, 512, kernel_size=(1, 1), stride=(2, 2), bias=False)\n",
       "        (1): BatchNorm2d(512, eps=1e-05, momentum=0.1, affine=True, track_running_stats=True)\n",
       "      )\n",
       "    )\n",
       "    (1): BasicBlock(\n",
       "      (conv1): Conv2d(512, 512, kernel_size=(3, 3), stride=(1, 1), padding=(1, 1), bias=False)\n",
       "      (bn1): BatchNorm2d(512, eps=1e-05, momentum=0.1, affine=True, track_running_stats=True)\n",
       "      (relu): ReLU(inplace)\n",
       "      (conv2): Conv2d(512, 512, kernel_size=(3, 3), stride=(1, 1), padding=(1, 1), bias=False)\n",
       "      (bn2): BatchNorm2d(512, eps=1e-05, momentum=0.1, affine=True, track_running_stats=True)\n",
       "    )\n",
       "  )\n",
       "  (avgpool): AvgPool2d(kernel_size=7, stride=1, padding=0)\n",
       "  (fc): Sequential()\n",
       ")"
      ]
     },
     "execution_count": 20,
     "metadata": {},
     "output_type": "execute_result"
    }
   ],
   "source": [
    "pretrained_net"
   ]
  },
  {
   "cell_type": "code",
   "execution_count": 21,
   "metadata": {},
   "outputs": [],
   "source": [
    "pretrained_net = pretrained_net.to(device)\n",
    "output_test = pretrained_net(query_image)"
   ]
  },
  {
   "cell_type": "code",
   "execution_count": 22,
   "metadata": {},
   "outputs": [
    {
     "data": {
      "text/plain": [
       "torch.Size([1, 512])"
      ]
     },
     "execution_count": 22,
     "metadata": {},
     "output_type": "execute_result"
    }
   ],
   "source": [
    "output_test.shape"
   ]
  },
  {
   "cell_type": "code",
   "execution_count": 23,
   "metadata": {},
   "outputs": [],
   "source": [
    "img2_path = 'database/hotdog/test/hotdog/1001.png' # hotdog\n",
    "img3_path = 'database/hotdog/test/not-hotdog/1012.png' # not hotdog\n",
    "img4_path = 'database/hotdog/test/not-hotdog/1065.png' # not hotdog 这个非常不像\n",
    "img2 = load_query_image(img2_path)\n",
    "img3 = load_query_image(img3_path)\n",
    "img4 = load_query_image(img4_path)"
   ]
  },
  {
   "cell_type": "code",
   "execution_count": 24,
   "metadata": {},
   "outputs": [],
   "source": [
    "img2 = img2.to(device)\n",
    "output_test2 = pretrained_net(img2)\n",
    "img3 = img3.to(device)\n",
    "output_test3 = pretrained_net(img3)\n",
    "img4 = img4.to(device)\n",
    "output_test4 = pretrained_net(img4)"
   ]
  },
  {
   "cell_type": "code",
   "execution_count": 25,
   "metadata": {},
   "outputs": [
    {
     "data": {
      "text/plain": [
       "(torch.Size([1, 512]), torch.Size([1, 512]), torch.Size([1, 512]))"
      ]
     },
     "execution_count": 25,
     "metadata": {},
     "output_type": "execute_result"
    }
   ],
   "source": [
    "output_test2.shape, output_test3.shape, output_test4.shape"
   ]
  },
  {
   "cell_type": "code",
   "execution_count": 26,
   "metadata": {},
   "outputs": [],
   "source": [
    "# 打平\n",
    "output_test = output_test.view(512)\n",
    "output_test2 = output_test2.view(512)\n",
    "output_test3 = output_test3.view(512)\n",
    "output_test4 = output_test4.view(512)\n",
    "\n",
    "output_test = output_test.data.cpu()\n",
    "output_test2 = output_test2.data.cpu()\n",
    "output_test3 = output_test3.data.cpu()\n",
    "output_test4 = output_test4.data.cpu()"
   ]
  },
  {
   "cell_type": "code",
   "execution_count": 27,
   "metadata": {},
   "outputs": [],
   "source": [
    "# 相似度\n",
    "out1 = (output_test*output_test2)/(torch.norm(output_test,p=2,dim=0, keepdim=True)*torch.norm(output_test2,p=2,dim=0, keepdim=True))\n",
    "out2 = (output_test*output_test3)/(torch.norm(output_test,p=2,dim=0, keepdim=True)*torch.norm(output_test3,p=2,dim=0, keepdim=True))\n",
    "out3 = (output_test*output_test4)/(torch.norm(output_test,p=2,dim=0, keepdim=True)*torch.norm(output_test4,p=2,dim=0, keepdim=True))\n",
    "dif_3_4 = (output_test3*output_test4)/(torch.norm(output_test4,p=2,dim=0, keepdim=True)*torch.norm(output_test3,p=2,dim=0, keepdim=True))"
   ]
  },
  {
   "cell_type": "code",
   "execution_count": 28,
   "metadata": {},
   "outputs": [
    {
     "data": {
      "text/plain": [
       "(tensor(0.6120), tensor(0.4597), tensor(0.5078), tensor(0.4943))"
      ]
     },
     "execution_count": 28,
     "metadata": {},
     "output_type": "execute_result"
    }
   ],
   "source": [
    "out1.sum(), out2.sum(), out3.sum(), dif_3_4.sum()"
   ]
  },
  {
   "cell_type": "markdown",
   "metadata": {},
   "source": [
    "## 封装距离比较函数"
   ]
  },
  {
   "cell_type": "code",
   "execution_count": 29,
   "metadata": {},
   "outputs": [],
   "source": [
    "def similarity_of_two(img1, img2):\n",
    "    # 加载到gpu\n",
    "    img1 = img1.to(device)\n",
    "    img2 = img2.to(device)\n",
    "    # 提取特征（1,3,224,224）=> (1,512)\n",
    "    output_img1 = pretrained_net(img1)\n",
    "    output_img2 = pretrained_net(img2)\n",
    "    # (1,512) => (512)\n",
    "    output_img1 = output_img1.view(512)\n",
    "    output_img2 = output_img2.view(512)\n",
    "    output_img1 = output_img1.data.cpu()\n",
    "    output_img2 = output_img2.data.cpu()\n",
    "    out = (output_img1*output_img2)/(torch.norm(output_img1,p=2,dim=0, keepdim=True)*torch.norm(output_img2,p=2,dim=0, keepdim=True))\n",
    "    return out.sum()"
   ]
  },
  {
   "cell_type": "code",
   "execution_count": 30,
   "metadata": {},
   "outputs": [
    {
     "data": {
      "text/plain": [
       "tensor(0.5921)"
      ]
     },
     "execution_count": 30,
     "metadata": {},
     "output_type": "execute_result"
    }
   ],
   "source": [
    "out = similarity_of_two(img2, img3)\n",
    "out"
   ]
  },
  {
   "cell_type": "code",
   "execution_count": 81,
   "metadata": {},
   "outputs": [],
   "source": [
    "banana1_path = 'database/hotdog/test/not-hotdog/1148.png'\n",
    "banana2_path = 'database/hotdog/test/not-hotdog/1132.png'\n",
    "hotdog1_path = 'database/hotdog/test/hotdog/1198.png'\n",
    "banana1 = load_query_image(banana1_path)\n",
    "banana2 = load_query_image(banana2_path)\n",
    "hotdog1 = load_query_image(hotdog1_path)\n",
    "similarity_bb = similarity_of_two(banana1, banana2)\n",
    "similarity_bh = similarity_of_two(banana1, hotdog1)"
   ]
  },
  {
   "cell_type": "code",
   "execution_count": 82,
   "metadata": {},
   "outputs": [
    {
     "data": {
      "text/plain": [
       "(tensor(0.6472), tensor(0.5143))"
      ]
     },
     "execution_count": 82,
     "metadata": {},
     "output_type": "execute_result"
    }
   ],
   "source": [
    "similarity_bb, similarity_bh"
   ]
  },
  {
   "cell_type": "code",
   "execution_count": 83,
   "metadata": {},
   "outputs": [
    {
     "data": {
      "text/plain": [
       "tensor([[[[-1.4672, -1.4843, -1.5014,  ...,  0.7248,  0.7419,  0.7419],\n",
       "          [-1.4500, -1.4672, -1.5014,  ...,  0.7248,  0.7419,  0.7591],\n",
       "          [-1.4158, -1.4329, -1.4843,  ...,  0.7419,  0.7591,  0.7762],\n",
       "          ...,\n",
       "          [ 0.8276,  0.8618,  0.8961,  ...,  0.6734,  0.7591,  0.8104],\n",
       "          [ 0.8276,  0.8447,  0.8961,  ...,  0.6734,  0.7591,  0.8104],\n",
       "          [ 0.8276,  0.8618,  0.8961,  ...,  0.6734,  0.7591,  0.8104]],\n",
       "\n",
       "         [[-1.5630, -1.5805, -1.5805,  ...,  0.4328,  0.4503,  0.4503],\n",
       "          [-1.5805, -1.5980, -1.5980,  ...,  0.4328,  0.4503,  0.4678],\n",
       "          [-1.5630, -1.5805, -1.5980,  ...,  0.4503,  0.4678,  0.4853],\n",
       "          ...,\n",
       "          [ 0.3978,  0.4328,  0.4678,  ...,  0.2927,  0.3627,  0.4153],\n",
       "          [ 0.3803,  0.4153,  0.4678,  ...,  0.2927,  0.3627,  0.4153],\n",
       "          [ 0.3803,  0.4153,  0.4503,  ...,  0.2927,  0.3627,  0.4153]],\n",
       "\n",
       "         [[-1.3513, -1.3513, -1.3861,  ..., -0.4624, -0.4450, -0.4450],\n",
       "          [-1.3164, -1.2990, -1.3513,  ..., -0.4624, -0.4450, -0.4275],\n",
       "          [-1.2641, -1.2641, -1.3513,  ..., -0.4624, -0.4450, -0.4275],\n",
       "          ...,\n",
       "          [-0.7238, -0.6890, -0.6541,  ..., -0.5670, -0.5147, -0.4973],\n",
       "          [-0.7238, -0.7064, -0.6715,  ..., -0.5670, -0.5147, -0.4973],\n",
       "          [-0.7238, -0.7064, -0.6715,  ..., -0.5670, -0.5147, -0.4973]]]])"
      ]
     },
     "execution_count": 83,
     "metadata": {},
     "output_type": "execute_result"
    }
   ],
   "source": [
    "banana1"
   ]
  },
  {
   "cell_type": "code",
   "execution_count": 84,
   "metadata": {},
   "outputs": [],
   "source": [
    "query_image = datasets.folder.default_loader(banana1_path)\n",
    "query_image2 = datasets.folder.default_loader(banana2_path)\n",
    "query_image3 = datasets.folder.default_loader(hotdog1_path)\n",
    "# query_image = test_augs(query_image)hotdog1_path"
   ]
  },
  {
   "cell_type": "code",
   "execution_count": 85,
   "metadata": {},
   "outputs": [
    {
     "data": {
      "image/png": "[encoded data removed]",
      "text/plain": [
       "<PIL.Image.Image image mode=RGB size=224x224 at 0x20225A407F0>"
      ]
     },
     "execution_count": 85,
     "metadata": {},
     "output_type": "execute_result"
    }
   ],
   "source": [
    "transform = transforms.Compose([\n",
    "            transforms.Resize(size=256),\n",
    "            transforms.CenterCrop(size=224)\n",
    "             ])\n",
    "query_image3 = transform(query_image3)\n",
    "query_image3"
   ]
  },
  {
   "cell_type": "code",
   "execution_count": 87,
   "metadata": {},
   "outputs": [
    {
     "data": {
      "image/svg+xml": [
       "<?xml version=\"1.0\" encoding=\"utf-8\" standalone=\"no\"?>\r\n",
       "<!DOCTYPE svg PUBLIC \"-//W3C//DTD SVG 1.1//EN\"\r\n",
       "  \"http://www.w3.org/Graphics/SVG/1.1/DTD/svg11.dtd\">\r\n",
       "<!-- Created with matplotlib (https://matplotlib.org/) -->\r\n",
       "<svg height=\"127.988713pt\" version=\"1.1\" viewBox=\"0 0 352.565018 127.988713\" width=\"352.565018pt\" xmlns=\"http://www.w3.org/2000/svg\" xmlns:xlink=\"http://www.w3.org/1999/xlink\">\r\n",
       " <defs>\r\n",
       "  <style type=\"text/css\">\r\n",
       "*{stroke-linecap:butt;stroke-linejoin:round;}\r\n",
       "  </style>\r\n",
       " </defs>\r\n",
       " <g id=\"figure_1\">\r\n",
       "  <g id=\"patch_1\">\r\n",
       "   <path d=\"M 0 127.988713 \r\n",
       "L 352.565018 127.988713 \r\n",
       "L 352.565018 0 \r\n",
       "L 0 0 \r\n",
       "z\r\n",
       "\" style=\"fill:none;\"/>\r\n",
       "  </g>\r\n",
       "  <g id=\"axes_1\">\r\n",
       "   <g id=\"patch_2\">\r\n",
       "    <path d=\"M 7.2 120.788713 \r\n",
       "L 105.670588 120.788713 \r\n",
       "L 105.670588 22.318125 \r\n",
       "L 7.2 22.318125 \r\n",
       "z\r\n",
       "\" style=\"fill:#ffffff;\"/>\r\n",
       "   </g>\r\n",
       "   <g clip-path=\"url(#pb8ac2f2159)\">\r\n",
       "    <image height=\"99\" id=\"image975ea4149f\" transform=\"scale(1 -1)translate(0 -99)\" width=\"99\" x=\"7.2\" xlink:href=\"data:image/png;base64,\r\n",
       "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\" y=\"-21.788713\"/>\r\n",
       "   </g>\r\n",
       "   <g id=\"patch_3\">\r\n",
       "    <path d=\"M 7.2 120.788713 \r\n",
       "L 7.2 22.318125 \r\n",
       "\" style=\"fill:none;stroke:#000000;stroke-linecap:square;stroke-linejoin:miter;stroke-width:0.8;\"/>\r\n",
       "   </g>\r\n",
       "   <g id=\"patch_4\">\r\n",
       "    <path d=\"M 105.670588 120.788713 \r\n",
       "L 105.670588 22.318125 \r\n",
       "\" style=\"fill:none;stroke:#000000;stroke-linecap:square;stroke-linejoin:miter;stroke-width:0.8;\"/>\r\n",
       "   </g>\r\n",
       "   <g id=\"patch_5\">\r\n",
       "    <path d=\"M 7.2 120.788713 \r\n",
       "L 105.670588 120.788713 \r\n",
       "\" style=\"fill:none;stroke:#000000;stroke-linecap:square;stroke-linejoin:miter;stroke-width:0.8;\"/>\r\n",
       "   </g>\r\n",
       "   <g id=\"patch_6\">\r\n",
       "    <path d=\"M 7.2 22.318125 \r\n",
       "L 105.670588 22.318125 \r\n",
       "\" style=\"fill:none;stroke:#000000;stroke-linecap:square;stroke-linejoin:miter;stroke-width:0.8;\"/>\r\n",
       "   </g>\r\n",
       "   <g id=\"text_1\">\r\n",
       "    <!-- query -->\r\n",
       "    <defs>\r\n",
       "     <path d=\"M 14.796875 27.296875 \r\n",
       "Q 14.796875 17.390625 18.875 11.75 \r\n",
       "Q 22.953125 6.109375 30.078125 6.109375 \r\n",
       "Q 37.203125 6.109375 41.296875 11.75 \r\n",
       "Q 45.40625 17.390625 45.40625 27.296875 \r\n",
       "Q 45.40625 37.203125 41.296875 42.84375 \r\n",
       "Q 37.203125 48.484375 30.078125 48.484375 \r\n",
       "Q 22.953125 48.484375 18.875 42.84375 \r\n",
       "Q 14.796875 37.203125 14.796875 27.296875 \r\n",
       "z\r\n",
       "M 45.40625 8.203125 \r\n",
       "Q 42.578125 3.328125 38.25 0.953125 \r\n",
       "Q 33.9375 -1.421875 27.875 -1.421875 \r\n",
       "Q 17.96875 -1.421875 11.734375 6.484375 \r\n",
       "Q 5.515625 14.40625 5.515625 27.296875 \r\n",
       "Q 5.515625 40.1875 11.734375 48.09375 \r\n",
       "Q 17.96875 56 27.875 56 \r\n",
       "Q 33.9375 56 38.25 53.625 \r\n",
       "Q 42.578125 51.265625 45.40625 46.390625 \r\n",
       "L 45.40625 54.6875 \r\n",
       "L 54.390625 54.6875 \r\n",
       "L 54.390625 -20.796875 \r\n",
       "L 45.40625 -20.796875 \r\n",
       "z\r\n",
       "\" id=\"DejaVuSans-113\"/>\r\n",
       "     <path d=\"M 8.5 21.578125 \r\n",
       "L 8.5 54.6875 \r\n",
       "L 17.484375 54.6875 \r\n",
       "L 17.484375 21.921875 \r\n",
       "Q 17.484375 14.15625 20.5 10.265625 \r\n",
       "Q 23.53125 6.390625 29.59375 6.390625 \r\n",
       "Q 36.859375 6.390625 41.078125 11.03125 \r\n",
       "Q 45.3125 15.671875 45.3125 23.6875 \r\n",
       "L 45.3125 54.6875 \r\n",
       "L 54.296875 54.6875 \r\n",
       "L 54.296875 0 \r\n",
       "L 45.3125 0 \r\n",
       "L 45.3125 8.40625 \r\n",
       "Q 42.046875 3.421875 37.71875 1 \r\n",
       "Q 33.40625 -1.421875 27.6875 -1.421875 \r\n",
       "Q 18.265625 -1.421875 13.375 4.4375 \r\n",
       "Q 8.5 10.296875 8.5 21.578125 \r\n",
       "z\r\n",
       "M 31.109375 56 \r\n",
       "z\r\n",
       "\" id=\"DejaVuSans-117\"/>\r\n",
       "     <path d=\"M 56.203125 29.59375 \r\n",
       "L 56.203125 25.203125 \r\n",
       "L 14.890625 25.203125 \r\n",
       "Q 15.484375 15.921875 20.484375 11.0625 \r\n",
       "Q 25.484375 6.203125 34.421875 6.203125 \r\n",
       "Q 39.59375 6.203125 44.453125 7.46875 \r\n",
       "Q 49.3125 8.734375 54.109375 11.28125 \r\n",
       "L 54.109375 2.78125 \r\n",
       "Q 49.265625 0.734375 44.1875 -0.34375 \r\n",
       "Q 39.109375 -1.421875 33.890625 -1.421875 \r\n",
       "Q 20.796875 -1.421875 13.15625 6.1875 \r\n",
       "Q 5.515625 13.8125 5.515625 26.8125 \r\n",
       "Q 5.515625 40.234375 12.765625 48.109375 \r\n",
       "Q 20.015625 56 32.328125 56 \r\n",
       "Q 43.359375 56 49.78125 48.890625 \r\n",
       "Q 56.203125 41.796875 56.203125 29.59375 \r\n",
       "z\r\n",
       "M 47.21875 32.234375 \r\n",
       "Q 47.125 39.59375 43.09375 43.984375 \r\n",
       "Q 39.0625 48.390625 32.421875 48.390625 \r\n",
       "Q 24.90625 48.390625 20.390625 44.140625 \r\n",
       "Q 15.875 39.890625 15.1875 32.171875 \r\n",
       "z\r\n",
       "\" id=\"DejaVuSans-101\"/>\r\n",
       "     <path d=\"M 41.109375 46.296875 \r\n",
       "Q 39.59375 47.171875 37.8125 47.578125 \r\n",
       "Q 36.03125 48 33.890625 48 \r\n",
       "Q 26.265625 48 22.1875 43.046875 \r\n",
       "Q 18.109375 38.09375 18.109375 28.8125 \r\n",
       "L 18.109375 0 \r\n",
       "L 9.078125 0 \r\n",
       "L 9.078125 54.6875 \r\n",
       "L 18.109375 54.6875 \r\n",
       "L 18.109375 46.1875 \r\n",
       "Q 20.953125 51.171875 25.484375 53.578125 \r\n",
       "Q 30.03125 56 36.53125 56 \r\n",
       "Q 37.453125 56 38.578125 55.875 \r\n",
       "Q 39.703125 55.765625 41.0625 55.515625 \r\n",
       "z\r\n",
       "\" id=\"DejaVuSans-114\"/>\r\n",
       "     <path d=\"M 32.171875 -5.078125 \r\n",
       "Q 28.375 -14.84375 24.75 -17.8125 \r\n",
       "Q 21.140625 -20.796875 15.09375 -20.796875 \r\n",
       "L 7.90625 -20.796875 \r\n",
       "L 7.90625 -13.28125 \r\n",
       "L 13.1875 -13.28125 \r\n",
       "Q 16.890625 -13.28125 18.9375 -11.515625 \r\n",
       "Q 21 -9.765625 23.484375 -3.21875 \r\n",
       "L 25.09375 0.875 \r\n",
       "L 2.984375 54.6875 \r\n",
       "L 12.5 54.6875 \r\n",
       "L 29.59375 11.921875 \r\n",
       "L 46.6875 54.6875 \r\n",
       "L 56.203125 54.6875 \r\n",
       "z\r\n",
       "\" id=\"DejaVuSans-121\"/>\r\n",
       "    </defs>\r\n",
       "    <g transform=\"translate(39.114044 16.318125)scale(0.12 -0.12)\">\r\n",
       "     <use xlink:href=\"#DejaVuSans-113\"/>\r\n",
       "     <use x=\"63.476562\" xlink:href=\"#DejaVuSans-117\"/>\r\n",
       "     <use x=\"126.855469\" xlink:href=\"#DejaVuSans-101\"/>\r\n",
       "     <use x=\"188.378906\" xlink:href=\"#DejaVuSans-114\"/>\r\n",
       "     <use x=\"229.492188\" xlink:href=\"#DejaVuSans-121\"/>\r\n",
       "    </g>\r\n",
       "   </g>\r\n",
       "  </g>\r\n",
       "  <g id=\"axes_2\">\r\n",
       "   <g id=\"patch_7\">\r\n",
       "    <path d=\"M 125.364706 120.788713 \r\n",
       "L 223.835294 120.788713 \r\n",
       "L 223.835294 22.318125 \r\n",
       "L 125.364706 22.318125 \r\n",
       "z\r\n",
       "\" style=\"fill:#ffffff;\"/>\r\n",
       "   </g>\r\n",
       "   <g clip-path=\"url(#pc9357954a8)\">\r\n",
       "    <image height=\"99\" id=\"image8ca4c7dfb6\" transform=\"scale(1 -1)translate(0 -99)\" width=\"99\" x=\"125.364706\" xlink:href=\"data:image/png;base64,\r\n",
       "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\" y=\"-21.788713\"/>\r\n",
       "   </g>\r\n",
       "   <g id=\"patch_8\">\r\n",
       "    <path d=\"M 125.364706 120.788713 \r\n",
       "L 125.364706 22.318125 \r\n",
       "\" style=\"fill:none;stroke:#000000;stroke-linecap:square;stroke-linejoin:miter;stroke-width:0.8;\"/>\r\n",
       "   </g>\r\n",
       "   <g id=\"patch_9\">\r\n",
       "    <path d=\"M 223.835294 120.788713 \r\n",
       "L 223.835294 22.318125 \r\n",
       "\" style=\"fill:none;stroke:#000000;stroke-linecap:square;stroke-linejoin:miter;stroke-width:0.8;\"/>\r\n",
       "   </g>\r\n",
       "   <g id=\"patch_10\">\r\n",
       "    <path d=\"M 125.364706 120.788713 \r\n",
       "L 223.835294 120.788713 \r\n",
       "\" style=\"fill:none;stroke:#000000;stroke-linecap:square;stroke-linejoin:miter;stroke-width:0.8;\"/>\r\n",
       "   </g>\r\n",
       "   <g id=\"patch_11\">\r\n",
       "    <path d=\"M 125.364706 22.318125 \r\n",
       "L 223.835294 22.318125 \r\n",
       "\" style=\"fill:none;stroke:#000000;stroke-linecap:square;stroke-linejoin:miter;stroke-width:0.8;\"/>\r\n",
       "   </g>\r\n",
       "   <g id=\"text_2\">\r\n",
       "    <!-- similarity: 0.6472 -->\r\n",
       "    <defs>\r\n",
       "     <path d=\"M 44.28125 53.078125 \r\n",
       "L 44.28125 44.578125 \r\n",
       "Q 40.484375 46.53125 36.375 47.5 \r\n",
       "Q 32.28125 48.484375 27.875 48.484375 \r\n",
       "Q 21.1875 48.484375 17.84375 46.4375 \r\n",
       "Q 14.5 44.390625 14.5 40.28125 \r\n",
       "Q 14.5 37.15625 16.890625 35.375 \r\n",
       "Q 19.28125 33.59375 26.515625 31.984375 \r\n",
       "L 29.59375 31.296875 \r\n",
       "Q 39.15625 29.25 43.1875 25.515625 \r\n",
       "Q 47.21875 21.78125 47.21875 15.09375 \r\n",
       "Q 47.21875 7.46875 41.1875 3.015625 \r\n",
       "Q 35.15625 -1.421875 24.609375 -1.421875 \r\n",
       "Q 20.21875 -1.421875 15.453125 -0.5625 \r\n",
       "Q 10.6875 0.296875 5.421875 2 \r\n",
       "L 5.421875 11.28125 \r\n",
       "Q 10.40625 8.6875 15.234375 7.390625 \r\n",
       "Q 20.0625 6.109375 24.8125 6.109375 \r\n",
       "Q 31.15625 6.109375 34.5625 8.28125 \r\n",
       "Q 37.984375 10.453125 37.984375 14.40625 \r\n",
       "Q 37.984375 18.0625 35.515625 20.015625 \r\n",
       "Q 33.0625 21.96875 24.703125 23.78125 \r\n",
       "L 21.578125 24.515625 \r\n",
       "Q 13.234375 26.265625 9.515625 29.90625 \r\n",
       "Q 5.8125 33.546875 5.8125 39.890625 \r\n",
       "Q 5.8125 47.609375 11.28125 51.796875 \r\n",
       "Q 16.75 56 26.8125 56 \r\n",
       "Q 31.78125 56 36.171875 55.265625 \r\n",
       "Q 40.578125 54.546875 44.28125 53.078125 \r\n",
       "z\r\n",
       "\" id=\"DejaVuSans-115\"/>\r\n",
       "     <path d=\"M 9.421875 54.6875 \r\n",
       "L 18.40625 54.6875 \r\n",
       "L 18.40625 0 \r\n",
       "L 9.421875 0 \r\n",
       "z\r\n",
       "M 9.421875 75.984375 \r\n",
       "L 18.40625 75.984375 \r\n",
       "L 18.40625 64.59375 \r\n",
       "L 9.421875 64.59375 \r\n",
       "z\r\n",
       "\" id=\"DejaVuSans-105\"/>\r\n",
       "     <path d=\"M 52 44.1875 \r\n",
       "Q 55.375 50.25 60.0625 53.125 \r\n",
       "Q 64.75 56 71.09375 56 \r\n",
       "Q 79.640625 56 84.28125 50.015625 \r\n",
       "Q 88.921875 44.046875 88.921875 33.015625 \r\n",
       "L 88.921875 0 \r\n",
       "L 79.890625 0 \r\n",
       "L 79.890625 32.71875 \r\n",
       "Q 79.890625 40.578125 77.09375 44.375 \r\n",
       "Q 74.3125 48.1875 68.609375 48.1875 \r\n",
       "Q 61.625 48.1875 57.5625 43.546875 \r\n",
       "Q 53.515625 38.921875 53.515625 30.90625 \r\n",
       "L 53.515625 0 \r\n",
       "L 44.484375 0 \r\n",
       "L 44.484375 32.71875 \r\n",
       "Q 44.484375 40.625 41.703125 44.40625 \r\n",
       "Q 38.921875 48.1875 33.109375 48.1875 \r\n",
       "Q 26.21875 48.1875 22.15625 43.53125 \r\n",
       "Q 18.109375 38.875 18.109375 30.90625 \r\n",
       "L 18.109375 0 \r\n",
       "L 9.078125 0 \r\n",
       "L 9.078125 54.6875 \r\n",
       "L 18.109375 54.6875 \r\n",
       "L 18.109375 46.1875 \r\n",
       "Q 21.1875 51.21875 25.484375 53.609375 \r\n",
       "Q 29.78125 56 35.6875 56 \r\n",
       "Q 41.65625 56 45.828125 52.96875 \r\n",
       "Q 50 49.953125 52 44.1875 \r\n",
       "z\r\n",
       "\" id=\"DejaVuSans-109\"/>\r\n",
       "     <path d=\"M 9.421875 75.984375 \r\n",
       "L 18.40625 75.984375 \r\n",
       "L 18.40625 0 \r\n",
       "L 9.421875 0 \r\n",
       "z\r\n",
       "\" id=\"DejaVuSans-108\"/>\r\n",
       "     <path d=\"M 34.28125 27.484375 \r\n",
       "Q 23.390625 27.484375 19.1875 25 \r\n",
       "Q 14.984375 22.515625 14.984375 16.5 \r\n",
       "Q 14.984375 11.71875 18.140625 8.90625 \r\n",
       "Q 21.296875 6.109375 26.703125 6.109375 \r\n",
       "Q 34.1875 6.109375 38.703125 11.40625 \r\n",
       "Q 43.21875 16.703125 43.21875 25.484375 \r\n",
       "L 43.21875 27.484375 \r\n",
       "z\r\n",
       "M 52.203125 31.203125 \r\n",
       "L 52.203125 0 \r\n",
       "L 43.21875 0 \r\n",
       "L 43.21875 8.296875 \r\n",
       "Q 40.140625 3.328125 35.546875 0.953125 \r\n",
       "Q 30.953125 -1.421875 24.3125 -1.421875 \r\n",
       "Q 15.921875 -1.421875 10.953125 3.296875 \r\n",
       "Q 6 8.015625 6 15.921875 \r\n",
       "Q 6 25.140625 12.171875 29.828125 \r\n",
       "Q 18.359375 34.515625 30.609375 34.515625 \r\n",
       "L 43.21875 34.515625 \r\n",
       "L 43.21875 35.40625 \r\n",
       "Q 43.21875 41.609375 39.140625 45 \r\n",
       "Q 35.0625 48.390625 27.6875 48.390625 \r\n",
       "Q 23 48.390625 18.546875 47.265625 \r\n",
       "Q 14.109375 46.140625 10.015625 43.890625 \r\n",
       "L 10.015625 52.203125 \r\n",
       "Q 14.9375 54.109375 19.578125 55.046875 \r\n",
       "Q 24.21875 56 28.609375 56 \r\n",
       "Q 40.484375 56 46.34375 49.84375 \r\n",
       "Q 52.203125 43.703125 52.203125 31.203125 \r\n",
       "z\r\n",
       "\" id=\"DejaVuSans-97\"/>\r\n",
       "     <path d=\"M 18.3125 70.21875 \r\n",
       "L 18.3125 54.6875 \r\n",
       "L 36.8125 54.6875 \r\n",
       "L 36.8125 47.703125 \r\n",
       "L 18.3125 47.703125 \r\n",
       "L 18.3125 18.015625 \r\n",
       "Q 18.3125 11.328125 20.140625 9.421875 \r\n",
       "Q 21.96875 7.515625 27.59375 7.515625 \r\n",
       "L 36.8125 7.515625 \r\n",
       "L 36.8125 0 \r\n",
       "L 27.59375 0 \r\n",
       "Q 17.1875 0 13.234375 3.875 \r\n",
       "Q 9.28125 7.765625 9.28125 18.015625 \r\n",
       "L 9.28125 47.703125 \r\n",
       "L 2.6875 47.703125 \r\n",
       "L 2.6875 54.6875 \r\n",
       "L 9.28125 54.6875 \r\n",
       "L 9.28125 70.21875 \r\n",
       "z\r\n",
       "\" id=\"DejaVuSans-116\"/>\r\n",
       "     <path d=\"M 11.71875 12.40625 \r\n",
       "L 22.015625 12.40625 \r\n",
       "L 22.015625 0 \r\n",
       "L 11.71875 0 \r\n",
       "z\r\n",
       "M 11.71875 51.703125 \r\n",
       "L 22.015625 51.703125 \r\n",
       "L 22.015625 39.3125 \r\n",
       "L 11.71875 39.3125 \r\n",
       "z\r\n",
       "\" id=\"DejaVuSans-58\"/>\r\n",
       "     <path id=\"DejaVuSans-32\"/>\r\n",
       "     <path d=\"M 31.78125 66.40625 \r\n",
       "Q 24.171875 66.40625 20.328125 58.90625 \r\n",
       "Q 16.5 51.421875 16.5 36.375 \r\n",
       "Q 16.5 21.390625 20.328125 13.890625 \r\n",
       "Q 24.171875 6.390625 31.78125 6.390625 \r\n",
       "Q 39.453125 6.390625 43.28125 13.890625 \r\n",
       "Q 47.125 21.390625 47.125 36.375 \r\n",
       "Q 47.125 51.421875 43.28125 58.90625 \r\n",
       "Q 39.453125 66.40625 31.78125 66.40625 \r\n",
       "z\r\n",
       "M 31.78125 74.21875 \r\n",
       "Q 44.046875 74.21875 50.515625 64.515625 \r\n",
       "Q 56.984375 54.828125 56.984375 36.375 \r\n",
       "Q 56.984375 17.96875 50.515625 8.265625 \r\n",
       "Q 44.046875 -1.421875 31.78125 -1.421875 \r\n",
       "Q 19.53125 -1.421875 13.0625 8.265625 \r\n",
       "Q 6.59375 17.96875 6.59375 36.375 \r\n",
       "Q 6.59375 54.828125 13.0625 64.515625 \r\n",
       "Q 19.53125 74.21875 31.78125 74.21875 \r\n",
       "z\r\n",
       "\" id=\"DejaVuSans-48\"/>\r\n",
       "     <path d=\"M 10.6875 12.40625 \r\n",
       "L 21 12.40625 \r\n",
       "L 21 0 \r\n",
       "L 10.6875 0 \r\n",
       "z\r\n",
       "\" id=\"DejaVuSans-46\"/>\r\n",
       "     <path d=\"M 33.015625 40.375 \r\n",
       "Q 26.375 40.375 22.484375 35.828125 \r\n",
       "Q 18.609375 31.296875 18.609375 23.390625 \r\n",
       "Q 18.609375 15.53125 22.484375 10.953125 \r\n",
       "Q 26.375 6.390625 33.015625 6.390625 \r\n",
       "Q 39.65625 6.390625 43.53125 10.953125 \r\n",
       "Q 47.40625 15.53125 47.40625 23.390625 \r\n",
       "Q 47.40625 31.296875 43.53125 35.828125 \r\n",
       "Q 39.65625 40.375 33.015625 40.375 \r\n",
       "z\r\n",
       "M 52.59375 71.296875 \r\n",
       "L 52.59375 62.3125 \r\n",
       "Q 48.875 64.0625 45.09375 64.984375 \r\n",
       "Q 41.3125 65.921875 37.59375 65.921875 \r\n",
       "Q 27.828125 65.921875 22.671875 59.328125 \r\n",
       "Q 17.53125 52.734375 16.796875 39.40625 \r\n",
       "Q 19.671875 43.65625 24.015625 45.921875 \r\n",
       "Q 28.375 48.1875 33.59375 48.1875 \r\n",
       "Q 44.578125 48.1875 50.953125 41.515625 \r\n",
       "Q 57.328125 34.859375 57.328125 23.390625 \r\n",
       "Q 57.328125 12.15625 50.6875 5.359375 \r\n",
       "Q 44.046875 -1.421875 33.015625 -1.421875 \r\n",
       "Q 20.359375 -1.421875 13.671875 8.265625 \r\n",
       "Q 6.984375 17.96875 6.984375 36.375 \r\n",
       "Q 6.984375 53.65625 15.1875 63.9375 \r\n",
       "Q 23.390625 74.21875 37.203125 74.21875 \r\n",
       "Q 40.921875 74.21875 44.703125 73.484375 \r\n",
       "Q 48.484375 72.75 52.59375 71.296875 \r\n",
       "z\r\n",
       "\" id=\"DejaVuSans-54\"/>\r\n",
       "     <path d=\"M 37.796875 64.3125 \r\n",
       "L 12.890625 25.390625 \r\n",
       "L 37.796875 25.390625 \r\n",
       "z\r\n",
       "M 35.203125 72.90625 \r\n",
       "L 47.609375 72.90625 \r\n",
       "L 47.609375 25.390625 \r\n",
       "L 58.015625 25.390625 \r\n",
       "L 58.015625 17.1875 \r\n",
       "L 47.609375 17.1875 \r\n",
       "L 47.609375 0 \r\n",
       "L 37.796875 0 \r\n",
       "L 37.796875 17.1875 \r\n",
       "L 4.890625 17.1875 \r\n",
       "L 4.890625 26.703125 \r\n",
       "z\r\n",
       "\" id=\"DejaVuSans-52\"/>\r\n",
       "     <path d=\"M 8.203125 72.90625 \r\n",
       "L 55.078125 72.90625 \r\n",
       "L 55.078125 68.703125 \r\n",
       "L 28.609375 0 \r\n",
       "L 18.3125 0 \r\n",
       "L 43.21875 64.59375 \r\n",
       "L 8.203125 64.59375 \r\n",
       "z\r\n",
       "\" id=\"DejaVuSans-55\"/>\r\n",
       "     <path d=\"M 19.1875 8.296875 \r\n",
       "L 53.609375 8.296875 \r\n",
       "L 53.609375 0 \r\n",
       "L 7.328125 0 \r\n",
       "L 7.328125 8.296875 \r\n",
       "Q 12.9375 14.109375 22.625 23.890625 \r\n",
       "Q 32.328125 33.6875 34.8125 36.53125 \r\n",
       "Q 39.546875 41.84375 41.421875 45.53125 \r\n",
       "Q 43.3125 49.21875 43.3125 52.78125 \r\n",
       "Q 43.3125 58.59375 39.234375 62.25 \r\n",
       "Q 35.15625 65.921875 28.609375 65.921875 \r\n",
       "Q 23.96875 65.921875 18.8125 64.3125 \r\n",
       "Q 13.671875 62.703125 7.8125 59.421875 \r\n",
       "L 7.8125 69.390625 \r\n",
       "Q 13.765625 71.78125 18.9375 73 \r\n",
       "Q 24.125 74.21875 28.421875 74.21875 \r\n",
       "Q 39.75 74.21875 46.484375 68.546875 \r\n",
       "Q 53.21875 62.890625 53.21875 53.421875 \r\n",
       "Q 53.21875 48.921875 51.53125 44.890625 \r\n",
       "Q 49.859375 40.875 45.40625 35.40625 \r\n",
       "Q 44.1875 33.984375 37.640625 27.21875 \r\n",
       "Q 31.109375 20.453125 19.1875 8.296875 \r\n",
       "z\r\n",
       "\" id=\"DejaVuSans-50\"/>\r\n",
       "    </defs>\r\n",
       "    <g transform=\"translate(121.999687 16.318125)scale(0.12 -0.12)\">\r\n",
       "     <use xlink:href=\"#DejaVuSans-115\"/>\r\n",
       "     <use x=\"52.099609\" xlink:href=\"#DejaVuSans-105\"/>\r\n",
       "     <use x=\"79.882812\" xlink:href=\"#DejaVuSans-109\"/>\r\n",
       "     <use x=\"177.294922\" xlink:href=\"#DejaVuSans-105\"/>\r\n",
       "     <use x=\"205.078125\" xlink:href=\"#DejaVuSans-108\"/>\r\n",
       "     <use x=\"232.861328\" xlink:href=\"#DejaVuSans-97\"/>\r\n",
       "     <use x=\"294.140625\" xlink:href=\"#DejaVuSans-114\"/>\r\n",
       "     <use x=\"335.253906\" xlink:href=\"#DejaVuSans-105\"/>\r\n",
       "     <use x=\"363.037109\" xlink:href=\"#DejaVuSans-116\"/>\r\n",
       "     <use x=\"402.246094\" xlink:href=\"#DejaVuSans-121\"/>\r\n",
       "     <use x=\"461.316406\" xlink:href=\"#DejaVuSans-58\"/>\r\n",
       "     <use x=\"495.007812\" xlink:href=\"#DejaVuSans-32\"/>\r\n",
       "     <use x=\"526.794922\" xlink:href=\"#DejaVuSans-48\"/>\r\n",
       "     <use x=\"590.417969\" xlink:href=\"#DejaVuSans-46\"/>\r\n",
       "     <use x=\"622.205078\" xlink:href=\"#DejaVuSans-54\"/>\r\n",
       "     <use x=\"685.828125\" xlink:href=\"#DejaVuSans-52\"/>\r\n",
       "     <use x=\"749.451172\" xlink:href=\"#DejaVuSans-55\"/>\r\n",
       "     <use x=\"813.074219\" xlink:href=\"#DejaVuSans-50\"/>\r\n",
       "    </g>\r\n",
       "   </g>\r\n",
       "  </g>\r\n",
       "  <g id=\"axes_3\">\r\n",
       "   <g id=\"patch_12\">\r\n",
       "    <path d=\"M 243.529412 120.788713 \r\n",
       "L 342 120.788713 \r\n",
       "L 342 22.318125 \r\n",
       "L 243.529412 22.318125 \r\n",
       "z\r\n",
       "\" style=\"fill:#ffffff;\"/>\r\n",
       "   </g>\r\n",
       "   <g clip-path=\"url(#pc06ed40cee)\">\r\n",
       "    <image height=\"99\" id=\"imageb269843e67\" transform=\"scale(1 -1)translate(0 -99)\" width=\"99\" x=\"243.529412\" xlink:href=\"data:image/png;base64,\r\n",
       "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\" y=\"-21.788713\"/>\r\n",
       "   </g>\r\n",
       "   <g id=\"patch_13\">\r\n",
       "    <path d=\"M 243.529412 120.788713 \r\n",
       "L 243.529412 22.318125 \r\n",
       "\" style=\"fill:none;stroke:#000000;stroke-linecap:square;stroke-linejoin:miter;stroke-width:0.8;\"/>\r\n",
       "   </g>\r\n",
       "   <g id=\"patch_14\">\r\n",
       "    <path d=\"M 342 120.788713 \r\n",
       "L 342 22.318125 \r\n",
       "\" style=\"fill:none;stroke:#000000;stroke-linecap:square;stroke-linejoin:miter;stroke-width:0.8;\"/>\r\n",
       "   </g>\r\n",
       "   <g id=\"patch_15\">\r\n",
       "    <path d=\"M 243.529412 120.788713 \r\n",
       "L 342 120.788713 \r\n",
       "\" style=\"fill:none;stroke:#000000;stroke-linecap:square;stroke-linejoin:miter;stroke-width:0.8;\"/>\r\n",
       "   </g>\r\n",
       "   <g id=\"patch_16\">\r\n",
       "    <path d=\"M 243.529412 22.318125 \r\n",
       "L 342 22.318125 \r\n",
       "\" style=\"fill:none;stroke:#000000;stroke-linecap:square;stroke-linejoin:miter;stroke-width:0.8;\"/>\r\n",
       "   </g>\r\n",
       "   <g id=\"text_3\">\r\n",
       "    <!-- similarity: 0.5143 -->\r\n",
       "    <defs>\r\n",
       "     <path d=\"M 10.796875 72.90625 \r\n",
       "L 49.515625 72.90625 \r\n",
       "L 49.515625 64.59375 \r\n",
       "L 19.828125 64.59375 \r\n",
       "L 19.828125 46.734375 \r\n",
       "Q 21.96875 47.46875 24.109375 47.828125 \r\n",
       "Q 26.265625 48.1875 28.421875 48.1875 \r\n",
       "Q 40.625 48.1875 47.75 41.5 \r\n",
       "Q 54.890625 34.8125 54.890625 23.390625 \r\n",
       "Q 54.890625 11.625 47.5625 5.09375 \r\n",
       "Q 40.234375 -1.421875 26.90625 -1.421875 \r\n",
       "Q 22.3125 -1.421875 17.546875 -0.640625 \r\n",
       "Q 12.796875 0.140625 7.71875 1.703125 \r\n",
       "L 7.71875 11.625 \r\n",
       "Q 12.109375 9.234375 16.796875 8.0625 \r\n",
       "Q 21.484375 6.890625 26.703125 6.890625 \r\n",
       "Q 35.15625 6.890625 40.078125 11.328125 \r\n",
       "Q 45.015625 15.765625 45.015625 23.390625 \r\n",
       "Q 45.015625 31 40.078125 35.4375 \r\n",
       "Q 35.15625 39.890625 26.703125 39.890625 \r\n",
       "Q 22.75 39.890625 18.8125 39.015625 \r\n",
       "Q 14.890625 38.140625 10.796875 36.28125 \r\n",
       "z\r\n",
       "\" id=\"DejaVuSans-53\"/>\r\n",
       "     <path d=\"M 12.40625 8.296875 \r\n",
       "L 28.515625 8.296875 \r\n",
       "L 28.515625 63.921875 \r\n",
       "L 10.984375 60.40625 \r\n",
       "L 10.984375 69.390625 \r\n",
       "L 28.421875 72.90625 \r\n",
       "L 38.28125 72.90625 \r\n",
       "L 38.28125 8.296875 \r\n",
       "L 54.390625 8.296875 \r\n",
       "L 54.390625 0 \r\n",
       "L 12.40625 0 \r\n",
       "z\r\n",
       "\" id=\"DejaVuSans-49\"/>\r\n",
       "     <path d=\"M 40.578125 39.3125 \r\n",
       "Q 47.65625 37.796875 51.625 33 \r\n",
       "Q 55.609375 28.21875 55.609375 21.1875 \r\n",
       "Q 55.609375 10.40625 48.1875 4.484375 \r\n",
       "Q 40.765625 -1.421875 27.09375 -1.421875 \r\n",
       "Q 22.515625 -1.421875 17.65625 -0.515625 \r\n",
       "Q 12.796875 0.390625 7.625 2.203125 \r\n",
       "L 7.625 11.71875 \r\n",
       "Q 11.71875 9.328125 16.59375 8.109375 \r\n",
       "Q 21.484375 6.890625 26.8125 6.890625 \r\n",
       "Q 36.078125 6.890625 40.9375 10.546875 \r\n",
       "Q 45.796875 14.203125 45.796875 21.1875 \r\n",
       "Q 45.796875 27.640625 41.28125 31.265625 \r\n",
       "Q 36.765625 34.90625 28.71875 34.90625 \r\n",
       "L 20.21875 34.90625 \r\n",
       "L 20.21875 43.015625 \r\n",
       "L 29.109375 43.015625 \r\n",
       "Q 36.375 43.015625 40.234375 45.921875 \r\n",
       "Q 44.09375 48.828125 44.09375 54.296875 \r\n",
       "Q 44.09375 59.90625 40.109375 62.90625 \r\n",
       "Q 36.140625 65.921875 28.71875 65.921875 \r\n",
       "Q 24.65625 65.921875 20.015625 65.03125 \r\n",
       "Q 15.375 64.15625 9.8125 62.3125 \r\n",
       "L 9.8125 71.09375 \r\n",
       "Q 15.4375 72.65625 20.34375 73.4375 \r\n",
       "Q 25.25 74.21875 29.59375 74.21875 \r\n",
       "Q 40.828125 74.21875 47.359375 69.109375 \r\n",
       "Q 53.90625 64.015625 53.90625 55.328125 \r\n",
       "Q 53.90625 49.265625 50.4375 45.09375 \r\n",
       "Q 46.96875 40.921875 40.578125 39.3125 \r\n",
       "z\r\n",
       "\" id=\"DejaVuSans-51\"/>\r\n",
       "    </defs>\r\n",
       "    <g transform=\"translate(240.164393 16.318125)scale(0.12 -0.12)\">\r\n",
       "     <use xlink:href=\"#DejaVuSans-115\"/>\r\n",
       "     <use x=\"52.099609\" xlink:href=\"#DejaVuSans-105\"/>\r\n",
       "     <use x=\"79.882812\" xlink:href=\"#DejaVuSans-109\"/>\r\n",
       "     <use x=\"177.294922\" xlink:href=\"#DejaVuSans-105\"/>\r\n",
       "     <use x=\"205.078125\" xlink:href=\"#DejaVuSans-108\"/>\r\n",
       "     <use x=\"232.861328\" xlink:href=\"#DejaVuSans-97\"/>\r\n",
       "     <use x=\"294.140625\" xlink:href=\"#DejaVuSans-114\"/>\r\n",
       "     <use x=\"335.253906\" xlink:href=\"#DejaVuSans-105\"/>\r\n",
       "     <use x=\"363.037109\" xlink:href=\"#DejaVuSans-116\"/>\r\n",
       "     <use x=\"402.246094\" xlink:href=\"#DejaVuSans-121\"/>\r\n",
       "     <use x=\"461.316406\" xlink:href=\"#DejaVuSans-58\"/>\r\n",
       "     <use x=\"495.007812\" xlink:href=\"#DejaVuSans-32\"/>\r\n",
       "     <use x=\"526.794922\" xlink:href=\"#DejaVuSans-48\"/>\r\n",
       "     <use x=\"590.417969\" xlink:href=\"#DejaVuSans-46\"/>\r\n",
       "     <use x=\"622.205078\" xlink:href=\"#DejaVuSans-53\"/>\r\n",
       "     <use x=\"685.828125\" xlink:href=\"#DejaVuSans-49\"/>\r\n",
       "     <use x=\"749.451172\" xlink:href=\"#DejaVuSans-52\"/>\r\n",
       "     <use x=\"813.074219\" xlink:href=\"#DejaVuSans-51\"/>\r\n",
       "    </g>\r\n",
       "   </g>\r\n",
       "  </g>\r\n",
       " </g>\r\n",
       " <defs>\r\n",
       "  <clipPath id=\"pb8ac2f2159\">\r\n",
       "   <rect height=\"98.470588\" width=\"98.470588\" x=\"7.2\" y=\"22.318125\"/>\r\n",
       "  </clipPath>\r\n",
       "  <clipPath id=\"pc9357954a8\">\r\n",
       "   <rect height=\"98.470588\" width=\"98.470588\" x=\"125.364706\" y=\"22.318125\"/>\r\n",
       "  </clipPath>\r\n",
       "  <clipPath id=\"pc06ed40cee\">\r\n",
       "   <rect height=\"98.470588\" width=\"98.470588\" x=\"243.529412\" y=\"22.318125\"/>\r\n",
       "  </clipPath>\r\n",
       " </defs>\r\n",
       "</svg>\r\n"
      ],
      "text/plain": [
       "<Figure size 432x288 with 3 Axes>"
      ]
     },
     "metadata": {
      "needs_background": "light"
     },
     "output_type": "display_data"
    }
   ],
   "source": [
    "import matplotlib.pyplot as plt\n",
    "transform = transforms.Compose([\n",
    "            transforms.Resize(size=256),\n",
    "            transforms.CenterCrop(size=224)\n",
    "             ])\n",
    "X = []\n",
    "X.append(transform(query_image))\n",
    "X.append(transform(query_image2))\n",
    "X.append(transform(query_image3))\n",
    "scores = ['query','similarity: 0.6472','similarity: 0.5143']\n",
    "d2l.use_svg_display()\n",
    "# 这里的_表示我们忽略（不使用）的变量\n",
    "_, axes = plt.subplots(nrows = 1, ncols = 3)\n",
    "#     for f, img, lbl in zip(figs, images, labels):\n",
    "for i in range(3):\n",
    "    axes[i].imshow(X[i])\n",
    "    axes[i].set_title(scores[i])\n",
    "    axes[i].axes.get_xaxis().set_visible(False)\n",
    "    axes[i].axes.get_yaxis().set_visible(False)\n",
    "plt.show()"
   ]
  },
  {
   "cell_type": "code",
   "execution_count": null,
   "metadata": {},
   "outputs": [],
   "source": []
  },
  {
   "cell_type": "code",
   "execution_count": null,
   "metadata": {},
   "outputs": [],
   "source": []
  },
  {
   "cell_type": "markdown",
   "metadata": {},
   "source": [
    "# 封装整理"
   ]
  },
  {
   "cell_type": "code",
   "execution_count": null,
   "metadata": {},
   "outputs": [],
   "source": [
    "# 读取一张图片并预处理\n",
    "img_path = 'database/hotdog/train/hotdog/785.png'\n",
    "def load_query_image(img_path):\n",
    "    test_augs = transforms.Compose([\n",
    "            transforms.Resize(size=256),\n",
    "            transforms.CenterCrop(size=224),\n",
    "            transforms.ToTensor(),\n",
    "            normalize\n",
    "        ])\n",
    "    query_image = datasets.folder.default_loader(img_path)\n",
    "    query_image = test_augs(query_image)\n",
    "    query_image = query_image.view(-1,3,224,224) # 3,224,224 是预设的 要输入给网络的\n",
    "    return query_image"
   ]
  },
  {
   "cell_type": "code",
   "execution_count": null,
   "metadata": {},
   "outputs": [],
   "source": [
    "# 封装距离比较函数\n",
    "def similarity_of_two(img1, img2):\n",
    "    # 加载到gpu\n",
    "    img1 = img1.to(device)\n",
    "    img2 = img2.to(device)\n",
    "    # 提取特征（1,3,224,224）=> (1,512)\n",
    "    output_img1 = pretrained_net(img1)\n",
    "    output_img2 = pretrained_net(img2)\n",
    "    # (1,512) => (512)\n",
    "    output_img1 = output_img1.view(512)\n",
    "    output_img2 = output_img2.view(512)\n",
    "    output_img1 = output_img1.data.cpu()\n",
    "    output_img2 = output_img2.data.cpu()\n",
    "    out = (output_img1*output_img2)/(torch.norm(output_img1,p=2,dim=0, keepdim=True)*torch.norm(output_img2,p=2,dim=0, keepdim=True))\n",
    "    return out.sum()"
   ]
  }
 ],
 "metadata": {
  "kernelspec": {
   "display_name": "Python 3",
   "language": "python",
   "name": "python3"
  },
  "language_info": {
   "codemirror_mode": {
    "name": "ipython",
    "version": 3
   },
   "file_extension": ".py",
   "mimetype": "text/x-python",
   "name": "python",
   "nbconvert_exporter": "python",
   "pygments_lexer": "ipython3",
   "version": "3.7.1"
  }
 },
 "nbformat": 4,
 "nbformat_minor": 4
}
