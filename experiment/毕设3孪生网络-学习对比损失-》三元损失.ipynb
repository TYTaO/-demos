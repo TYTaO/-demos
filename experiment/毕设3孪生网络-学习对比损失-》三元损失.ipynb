{
 "cells": [
  {
   "cell_type": "markdown",
   "metadata": {},
   "source": [
    "#### from https://www.cnblogs.com/inchbyinch/p/12116339.html"
   ]
  },
  {
   "cell_type": "code",
   "execution_count": 1,
   "metadata": {},
   "outputs": [
    {
     "name": "stdout",
     "output_type": "stream",
     "text": [
      "1.0.0\n",
      "0.2.1\n"
     ]
    }
   ],
   "source": [
    "import torch\n",
    "import torchvision\n",
    "import torch.nn as nn\n",
    "from torch import optim\n",
    "import torch.nn.functional as F\n",
    "import torchvision.transforms as transforms\n",
    "from torch.utils.data import DataLoader,Dataset\n",
    "import matplotlib.pyplot as plt\n",
    "import torchvision.utils\n",
    "import numpy as np\n",
    "import random\n",
    "from PIL import Image\n",
    "import PIL.ImageOps \n",
    "print(torch.__version__)  #1.1.0\n",
    "print(torchvision.__version__)  #0.3.0"
   ]
  },
  {
   "cell_type": "markdown",
   "metadata": {},
   "source": [
    "### 展示tensor图片  损失变化图"
   ]
  },
  {
   "cell_type": "code",
   "execution_count": 2,
   "metadata": {},
   "outputs": [],
   "source": [
    "#定义一些超参\n",
    "train_batch_size = 32        #训练时batch_size\n",
    "train_number_epochs = 50     #训练的epoch\n",
    "\n",
    "def imshow(img,text=None,should_save=False): \n",
    "    #展示一幅tensor图像，输入是(C,H,W)\n",
    "    npimg = img.numpy() #将tensor转为ndarray\n",
    "    plt.axis(\"off\")\n",
    "    if text:\n",
    "        plt.text(75, 8, text, style='italic',fontweight='bold',\n",
    "            bbox={'facecolor':'white', 'alpha':0.8, 'pad':10})\n",
    "    plt.imshow(np.transpose(npimg, (1, 2, 0))) #转换为(H,W,C)\n",
    "    plt.show()    \n",
    "\n",
    "def show_plot(iteration,loss):\n",
    "    #绘制损失变化图\n",
    "    plt.plot(iteration,loss)\n",
    "    plt.show()"
   ]
  },
  {
   "cell_type": "markdown",
   "metadata": {},
   "source": [
    "## dataset dataloader"
   ]
  },
  {
   "cell_type": "code",
   "execution_count": 3,
   "metadata": {},
   "outputs": [],
   "source": [
    "#自定义Dataset类，__getitem__(self,index)每次返回(img1, img2, 0/1) 返回相同0  或不同类图片1\n",
    "class SiameseNetworkDataset(Dataset):\n",
    "    \n",
    "    def __init__(self,imageFolderDataset,transform=None,should_invert=True):\n",
    "        self.imageFolderDataset = imageFolderDataset    \n",
    "        self.transform = transform\n",
    "        self.should_invert = should_invert\n",
    "        \n",
    "    def __getitem__(self,index):\n",
    "        img0_tuple = random.choice(self.imageFolderDataset.imgs) #37个类别中任选一个       待\n",
    "        should_get_same_class = random.randint(0,1) #保证同类样本约占一半  0: 50%  1: 50%\n",
    "        if should_get_same_class:\n",
    "            while True:\n",
    "                #直到找到同一类别  找到为止\n",
    "                img1_tuple = random.choice(self.imageFolderDataset.imgs) \n",
    "                if img0_tuple[1]==img1_tuple[1]:\n",
    "                    break\n",
    "        else:\n",
    "            while True:\n",
    "                #直到找到非同一类别\n",
    "                img1_tuple = random.choice(self.imageFolderDataset.imgs) \n",
    "                if img0_tuple[1] !=img1_tuple[1]:\n",
    "                    break\n",
    "\n",
    "        img0 = Image.open(img0_tuple[0])\n",
    "        img1 = Image.open(img1_tuple[0])\n",
    "        img0 = img0.convert(\"L\")  # 转灰度图\n",
    "        img1 = img1.convert(\"L\")\n",
    "        \n",
    "        if self.should_invert:    # 反转\n",
    "            img0 = PIL.ImageOps.invert(img0)\n",
    "            img1 = PIL.ImageOps.invert(img1)\n",
    "\n",
    "        if self.transform is not None:\n",
    "            img0 = self.transform(img0)\n",
    "            img1 = self.transform(img1)\n",
    "        \n",
    "        return img0, img1, torch.from_numpy(np.array([int(img1_tuple[1]!=img0_tuple[1])],dtype=np.float32))\n",
    "    \n",
    "    def __len__(self):\n",
    "        return len(self.imageFolderDataset.imgs)"
   ]
  },
  {
   "cell_type": "code",
   "execution_count": 4,
   "metadata": {},
   "outputs": [
    {
     "data": {
      "text/plain": [
       "'D:\\\\360downloads\\\\毕业论文\\\\pytorch'"
      ]
     },
     "execution_count": 4,
     "metadata": {},
     "output_type": "execute_result"
    }
   ],
   "source": [
    "pwd"
   ]
  },
  {
   "cell_type": "code",
   "execution_count": 6,
   "metadata": {},
   "outputs": [],
   "source": [
    "#定义文件dataset\n",
    "training_dir = \"../数据集/ORL/data/orl_faces/training/\"  #训练集地址\n",
    "folder_dataset = torchvision.datasets.ImageFolder(root=training_dir)"
   ]
  },
  {
   "cell_type": "code",
   "execution_count": 11,
   "metadata": {},
   "outputs": [
    {
     "data": {
      "text/plain": [
       "('../数据集/ORL/data/orl_faces/training/s1\\\\1.pgm', 0)"
      ]
     },
     "execution_count": 11,
     "metadata": {},
     "output_type": "execute_result"
    }
   ],
   "source": [
    "folder_dataset.imgs[0] # 0:图片  1：类别"
   ]
  },
  {
   "cell_type": "code",
   "execution_count": 12,
   "metadata": {},
   "outputs": [],
   "source": [
    "#定义图像dataset\n",
    "transform = transforms.Compose([transforms.Resize((100,100)), #有坑，传入int和tuple有区别\n",
    "                                transforms.ToTensor()])\n",
    "siamese_dataset = SiameseNetworkDataset(imageFolderDataset=folder_dataset,\n",
    "                                        transform=transform,\n",
    "                                        should_invert=False)"
   ]
  },
  {
   "cell_type": "code",
   "execution_count": 13,
   "metadata": {},
   "outputs": [],
   "source": [
    "#定义图像dataloader\n",
    "train_dataloader = DataLoader(siamese_dataset,\n",
    "                            shuffle=True,\n",
    "                            batch_size=train_batch_size)"
   ]
  },
  {
   "cell_type": "markdown",
   "metadata": {},
   "source": [
    "### 可视化数据集"
   ]
  },
  {
   "cell_type": "code",
   "execution_count": 22,
   "metadata": {
    "scrolled": true
   },
   "outputs": [
    {
     "data": {
      "image/png": "[encoded data removed]",
      "text/plain": [
       "<Figure size 432x288 with 1 Axes>"
      ]
     },
     "metadata": {
      "needs_background": "light"
     },
     "output_type": "display_data"
    },
    {
     "name": "stdout",
     "output_type": "stream",
     "text": [
      "[[0.]\n",
      " [1.]\n",
      " [0.]\n",
      " [1.]\n",
      " [1.]\n",
      " [1.]\n",
      " [1.]\n",
      " [1.]]\n"
     ]
    }
   ],
   "source": [
    "vis_dataloader = DataLoader(siamese_dataset,\n",
    "                        shuffle=True,\n",
    "                        batch_size=8)\n",
    "example_batch = next(iter(vis_dataloader)) #生成一批图像\n",
    "#其中example_batch[0] 维度为torch.Size([8, 1, 100, 100])\n",
    "concatenated = torch.cat((example_batch[0],example_batch[1]),0) \n",
    "imshow(torchvision.utils.make_grid(concatenated, nrow=8))\n",
    "print(example_batch[2].numpy())"
   ]
  },
  {
   "cell_type": "markdown",
   "metadata": {},
   "source": [
    "##  准备模型"
   ]
  },
  {
   "cell_type": "code",
   "execution_count": 25,
   "metadata": {},
   "outputs": [],
   "source": [
    "#搭建模型\n",
    "class SiameseNetwork(nn.Module):\n",
    "    def __init__(self):\n",
    "        super().__init__()\n",
    "        self.cnn1 = nn.Sequential(\n",
    "            nn.ReflectionPad2d(1),\n",
    "            nn.Conv2d(1, 4, kernel_size=3),\n",
    "            nn.ReLU(inplace=True),\n",
    "            nn.BatchNorm2d(4),\n",
    "            \n",
    "            nn.ReflectionPad2d(1),\n",
    "            nn.Conv2d(4, 8, kernel_size=3),\n",
    "            nn.ReLU(inplace=True),\n",
    "            nn.BatchNorm2d(8),\n",
    "\n",
    "            nn.ReflectionPad2d(1),\n",
    "            nn.Conv2d(8, 8, kernel_size=3),\n",
    "            nn.ReLU(inplace=True),\n",
    "            nn.BatchNorm2d(8),\n",
    "        )\n",
    "\n",
    "        self.fc1 = nn.Sequential(\n",
    "            nn.Linear(8*100*100, 500),\n",
    "            nn.ReLU(inplace=True),\n",
    "\n",
    "            nn.Linear(500, 500),\n",
    "            nn.ReLU(inplace=True),\n",
    "\n",
    "            nn.Linear(500, 5))\n",
    "\n",
    "    def forward_once(self, x):\n",
    "        output = self.cnn1(x)\n",
    "        output = output.view(output.size()[0], -1)\n",
    "        output = self.fc1(output)\n",
    "        return output\n",
    "\n",
    "    def forward(self, input1, input2):\n",
    "        output1 = self.forward_once(input1)\n",
    "        output2 = self.forward_once(input2)\n",
    "        return output1, output2\n",
    "    \n",
    "    \n",
    "#自定义ContrastiveLoss\n",
    "class ContrastiveLoss(torch.nn.Module):\n",
    "    \"\"\"\n",
    "    Contrastive loss function.\n",
    "    Based on: http://yann.lecun.com/exdb/publis/pdf/hadsell-chopra-lecun-06.pdf\n",
    "    \"\"\"\n",
    "\n",
    "    def __init__(self, margin=2.0):\n",
    "        super(ContrastiveLoss, self).__init__()\n",
    "        self.margin = margin\n",
    "\n",
    "    def forward(self, output1, output2, label):\n",
    "        euclidean_distance = F.pairwise_distance(output1, output2, keepdim = True)\n",
    "        # 公式\n",
    "        loss_contrastive = torch.mean((1-label) * torch.pow(euclidean_distance, 2) +  \n",
    "                                      (label) * torch.pow(torch.clamp(self.margin - euclidean_distance, min=0.0), 2))\n",
    "\n",
    "        return loss_contrastive"
   ]
  },
  {
   "cell_type": "code",
   "execution_count": 26,
   "metadata": {},
   "outputs": [
    {
     "name": "stdout",
     "output_type": "stream",
     "text": [
      "Epoch number: 0 , Current loss: 2.0206\n",
      "\n",
      "Epoch number: 1 , Current loss: 0.4935\n",
      "\n",
      "Epoch number: 2 , Current loss: 0.5688\n",
      "\n",
      "Epoch number: 3 , Current loss: 0.5215\n",
      "\n",
      "Epoch number: 4 , Current loss: 0.1375\n",
      "\n",
      "Epoch number: 5 , Current loss: 0.1005\n",
      "\n",
      "Epoch number: 6 , Current loss: 0.1785\n",
      "\n",
      "Epoch number: 7 , Current loss: 0.1730\n",
      "\n",
      "Epoch number: 8 , Current loss: 0.2592\n",
      "\n",
      "Epoch number: 9 , Current loss: 0.3165\n",
      "\n",
      "Epoch number: 10 , Current loss: 0.0757\n",
      "\n",
      "Epoch number: 11 , Current loss: 0.2087\n",
      "\n",
      "Epoch number: 12 , Current loss: 0.1542\n",
      "\n",
      "Epoch number: 13 , Current loss: 0.0643\n",
      "\n",
      "Epoch number: 14 , Current loss: 0.0690\n",
      "\n",
      "Epoch number: 15 , Current loss: 0.0416\n",
      "\n",
      "Epoch number: 16 , Current loss: 0.0351\n",
      "\n",
      "Epoch number: 17 , Current loss: 0.0367\n",
      "\n",
      "Epoch number: 18 , Current loss: 0.0408\n",
      "\n",
      "Epoch number: 19 , Current loss: 0.0730\n",
      "\n",
      "Epoch number: 20 , Current loss: 0.0369\n",
      "\n",
      "Epoch number: 21 , Current loss: 0.0881\n",
      "\n",
      "Epoch number: 22 , Current loss: 0.0428\n",
      "\n",
      "Epoch number: 23 , Current loss: 0.0863\n",
      "\n",
      "Epoch number: 24 , Current loss: 0.0497\n",
      "\n",
      "Epoch number: 25 , Current loss: 0.0919\n",
      "\n",
      "Epoch number: 26 , Current loss: 0.0753\n",
      "\n",
      "Epoch number: 27 , Current loss: 0.1018\n",
      "\n",
      "Epoch number: 28 , Current loss: 0.0319\n",
      "\n",
      "Epoch number: 29 , Current loss: 0.0512\n",
      "\n",
      "Epoch number: 30 , Current loss: 0.0705\n",
      "\n",
      "Epoch number: 31 , Current loss: 0.0624\n",
      "\n",
      "Epoch number: 32 , Current loss: 0.0389\n",
      "\n",
      "Epoch number: 33 , Current loss: 0.0538\n",
      "\n",
      "Epoch number: 34 , Current loss: 0.0268\n",
      "\n",
      "Epoch number: 35 , Current loss: 0.0232\n",
      "\n",
      "Epoch number: 36 , Current loss: 0.0399\n",
      "\n",
      "Epoch number: 37 , Current loss: 0.0188\n",
      "\n",
      "Epoch number: 38 , Current loss: 0.0190\n",
      "\n",
      "Epoch number: 39 , Current loss: 0.0318\n",
      "\n",
      "Epoch number: 40 , Current loss: 0.0149\n",
      "\n",
      "Epoch number: 41 , Current loss: 0.0247\n",
      "\n",
      "Epoch number: 42 , Current loss: 0.0599\n",
      "\n",
      "Epoch number: 43 , Current loss: 0.0159\n",
      "\n",
      "Epoch number: 44 , Current loss: 0.0264\n",
      "\n",
      "Epoch number: 45 , Current loss: 0.0429\n",
      "\n",
      "Epoch number: 46 , Current loss: 0.0454\n",
      "\n",
      "Epoch number: 47 , Current loss: 0.0082\n",
      "\n",
      "Epoch number: 48 , Current loss: 0.0208\n",
      "\n",
      "Epoch number: 49 , Current loss: 0.0296\n",
      "\n"
     ]
    },
    {
     "data": {
      "image/png": "[encoded data removed]",
      "text/plain": [
       "<Figure size 432x288 with 1 Axes>"
      ]
     },
     "metadata": {
      "needs_background": "light"
     },
     "output_type": "display_data"
    }
   ],
   "source": [
    "net = SiameseNetwork().cuda() #定义模型且移至GPU\n",
    "criterion = ContrastiveLoss() #定义损失函数\n",
    "optimizer = optim.Adam(net.parameters(), lr = 0.0005) #定义优化器\n",
    "\n",
    "counter = []\n",
    "loss_history = [] \n",
    "iteration_number = 0\n",
    "\n",
    "\n",
    "#开始训练\n",
    "for epoch in range(0, train_number_epochs):\n",
    "    for i, data in enumerate(train_dataloader, 0):\n",
    "        img0, img1 , label = data\n",
    "        #img0维度为torch.Size([32, 1, 100, 100])，32是batch，label为torch.Size([32, 1])\n",
    "        img0, img1 , label = img0.cuda(), img1.cuda(), label.cuda() #数据移至GPU\n",
    "        optimizer.zero_grad()\n",
    "        output1,output2 = net(img0, img1)\n",
    "        loss_contrastive = criterion(output1, output2, label)\n",
    "        loss_contrastive.backward()\n",
    "        optimizer.step()\n",
    "        if i % 10 == 0 :\n",
    "            iteration_number +=10\n",
    "            counter.append(iteration_number)\n",
    "            loss_history.append(loss_contrastive.item())\n",
    "    print(\"Epoch number: {} , Current loss: {:.4f}\\n\".format(epoch,loss_contrastive.item()))\n",
    "    \n",
    "show_plot(counter, loss_history)"
   ]
  },
  {
   "cell_type": "code",
   "execution_count": null,
   "metadata": {},
   "outputs": [],
   "source": []
  }
 ],
 "metadata": {
  "kernelspec": {
   "display_name": "Python 3",
   "language": "python",
   "name": "python3"
  },
  "language_info": {
   "codemirror_mode": {
    "name": "ipython",
    "version": 3
   },
   "file_extension": ".py",
   "mimetype": "text/x-python",
   "name": "python",
   "nbconvert_exporter": "python",
   "pygments_lexer": "ipython3",
   "version": "3.7.1"
  }
 },
 "nbformat": 4,
 "nbformat_minor": 4
}
