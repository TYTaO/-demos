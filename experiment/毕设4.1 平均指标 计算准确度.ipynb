{
 "cells": [
  {
   "cell_type": "code",
   "execution_count": 12,
   "metadata": {},
   "outputs": [],
   "source": [
    "ex_list = [0,0,1,0,0,1,1,0,1,0,1,0,1,1,1,1,1,1,0,1,1,1] # 0：对 1：错"
   ]
  },
  {
   "cell_type": "code",
   "execution_count": 15,
   "metadata": {},
   "outputs": [],
   "source": [
    "def compute_P(list):  # 5  10  20\n",
    "    res = []\n",
    "    true_size = 0.0\n",
    "    P = 0.0\n",
    "    for i in range(len(list)):\n",
    "        if i == 0: #  不计算本身\n",
    "            continue\n",
    "        if list[i] == 0:\n",
    "            true_size += 1.\n",
    "        if i == 5:\n",
    "            res.append(true_size/(i))\n",
    "        if i == 10:\n",
    "            res.append(true_size/(i))\n",
    "        if i == 20:\n",
    "            res.append(true_size/(i))\n",
    "    return res"
   ]
  },
  {
   "cell_type": "code",
   "execution_count": 16,
   "metadata": {},
   "outputs": [
    {
     "data": {
      "text/plain": [
       "[0.6, 0.5, 0.35]"
      ]
     },
     "execution_count": 16,
     "metadata": {},
     "output_type": "execute_result"
    }
   ],
   "source": [
    "compute_P(ex_list)"
   ]
  },
  {
   "cell_type": "code",
   "execution_count": 4,
   "metadata": {},
   "outputs": [],
   "source": [
    "res = []\n",
    "res.append(1)"
   ]
  },
  {
   "cell_type": "code",
   "execution_count": 5,
   "metadata": {},
   "outputs": [
    {
     "data": {
      "text/plain": [
       "[1]"
      ]
     },
     "execution_count": 5,
     "metadata": {},
     "output_type": "execute_result"
    }
   ],
   "source": [
    "res"
   ]
  },
  {
   "cell_type": "code",
   "execution_count": 17,
   "metadata": {},
   "outputs": [],
   "source": [
    "# mAP... and  准确率 k = 5 10 20\n",
    "def compute_AP_and_P(list, label):\n",
    "    P_three = []\n",
    "    true_size = 0.0\n",
    "    AP = 0.0\n",
    "    num = 1\n",
    "    for i in range(len(list)):\n",
    "#         if num == 19: # 在这里正例总共20个\n",
    "#             break\n",
    "        # 排除自身这张图片\n",
    "        if i == 0:\n",
    "            continue\n",
    "        if list[i] == label:\n",
    "            true_size += 1.\n",
    "            AP += true_size / (i)\n",
    "#             num = num + 1\n",
    "        if i == 5:\n",
    "            P_three.append(true_size/(i))\n",
    "        if i == 10:\n",
    "            P_three.append(true_size/(i))\n",
    "        if i == 20:\n",
    "            P_three.append(true_size/(i))\n",
    "    if true_size == 0.0:\n",
    "        return 0\n",
    "    return AP/true_size, P_three"
   ]
  },
  {
   "cell_type": "code",
   "execution_count": 21,
   "metadata": {},
   "outputs": [],
   "source": [
    "mAP, P_three= compute_AP_and_P(ex_list, 0)"
   ]
  },
  {
   "cell_type": "code",
   "execution_count": 22,
   "metadata": {},
   "outputs": [
    {
     "data": {
      "text/plain": [
       "0.6397134611420326"
      ]
     },
     "execution_count": 22,
     "metadata": {},
     "output_type": "execute_result"
    }
   ],
   "source": [
    "mAP"
   ]
  },
  {
   "cell_type": "code",
   "execution_count": 23,
   "metadata": {},
   "outputs": [
    {
     "data": {
      "text/plain": [
       "[0.6, 0.5, 0.35]"
      ]
     },
     "execution_count": 23,
     "metadata": {},
     "output_type": "execute_result"
    }
   ],
   "source": [
    "P_three"
   ]
  },
  {
   "cell_type": "code",
   "execution_count": null,
   "metadata": {},
   "outputs": [],
   "source": []
  }
 ],
 "metadata": {
  "kernelspec": {
   "display_name": "Python 3",
   "language": "python",
   "name": "python3"
  },
  "language_info": {
   "codemirror_mode": {
    "name": "ipython",
    "version": 3
   },
   "file_extension": ".py",
   "mimetype": "text/x-python",
   "name": "python",
   "nbconvert_exporter": "python",
   "pygments_lexer": "ipython3",
   "version": "3.7.1"
  }
 },
 "nbformat": 4,
 "nbformat_minor": 4
}
