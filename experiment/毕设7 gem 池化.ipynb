{
 "cells": [
  {
   "cell_type": "code",
   "execution_count": 1,
   "metadata": {},
   "outputs": [],
   "source": [
    "import torch"
   ]
  },
  {
   "cell_type": "code",
   "execution_count": 7,
   "metadata": {},
   "outputs": [],
   "source": [
    "o = torch.rand(1,3,7,7)"
   ]
  },
  {
   "cell_type": "code",
   "execution_count": 19,
   "metadata": {},
   "outputs": [],
   "source": [
    "x = torch.rand(1,1,7,7)"
   ]
  },
  {
   "cell_type": "code",
   "execution_count": 23,
   "metadata": {},
   "outputs": [
    {
     "data": {
      "text/plain": [
       "tensor([[[[0., 0., 0., 0., 0., 0., 0.],\n",
       "          [0., 0., 0., 0., 0., 0., 0.],\n",
       "          [0., 0., 0., 0., 0., 0., 0.],\n",
       "          [0., 0., 0., 0., 0., 0., 0.],\n",
       "          [0., 0., 0., 0., 0., 0., 0.],\n",
       "          [0., 0., 0., 0., 0., 0., 0.],\n",
       "          [0., 0., 0., 0., 0., 0., 0.]]]])"
      ]
     },
     "execution_count": 23,
     "metadata": {},
     "output_type": "execute_result"
    }
   ],
   "source": [
    "x = torch.zeros(1,1,7,7)\n",
    "x"
   ]
  },
  {
   "cell_type": "code",
   "execution_count": 24,
   "metadata": {},
   "outputs": [
    {
     "data": {
      "text/plain": [
       "tensor([[[[1.0000e-06, 1.0000e-06, 1.0000e-06, 1.0000e-06, 1.0000e-06,\n",
       "           1.0000e-06, 1.0000e-06],\n",
       "          [1.0000e-06, 1.0000e-06, 1.0000e-06, 1.0000e-06, 1.0000e-06,\n",
       "           1.0000e-06, 1.0000e-06],\n",
       "          [1.0000e-06, 1.0000e-06, 1.0000e-06, 1.0000e-06, 1.0000e-06,\n",
       "           1.0000e-06, 1.0000e-06],\n",
       "          [1.0000e-06, 1.0000e-06, 1.0000e-06, 1.0000e-06, 1.0000e-06,\n",
       "           1.0000e-06, 1.0000e-06],\n",
       "          [1.0000e-06, 1.0000e-06, 1.0000e-06, 1.0000e-06, 1.0000e-06,\n",
       "           1.0000e-06, 1.0000e-06],\n",
       "          [1.0000e-06, 1.0000e-06, 1.0000e-06, 1.0000e-06, 1.0000e-06,\n",
       "           1.0000e-06, 1.0000e-06],\n",
       "          [1.0000e-06, 1.0000e-06, 1.0000e-06, 1.0000e-06, 1.0000e-06,\n",
       "           1.0000e-06, 1.0000e-06]]]])"
      ]
     },
     "execution_count": 24,
     "metadata": {},
     "output_type": "execute_result"
    }
   ],
   "source": [
    "x.clamp(min=eps)"
   ]
  },
  {
   "cell_type": "code",
   "execution_count": 15,
   "metadata": {},
   "outputs": [
    {
     "data": {
      "text/plain": [
       "tensor([[[[1.0033e-01, 8.8227e-01, 5.7419e-03, 5.5655e-03, 4.3437e-01,\n",
       "           9.0798e-01, 4.9242e-01],\n",
       "          [3.1703e-01, 3.2315e-03, 6.2047e-02, 5.6418e-02, 1.4599e-01,\n",
       "           5.5079e-03, 5.9872e-01],\n",
       "          [8.2504e-01, 6.6977e-04, 9.0700e-02, 1.6446e-02, 3.1078e-01,\n",
       "           5.9050e-01, 8.9840e-01],\n",
       "          [9.0858e-02, 5.6157e-01, 5.4433e-01, 2.2653e-01, 6.8184e-01,\n",
       "           9.9168e-03, 9.5171e-02],\n",
       "          [1.2508e-01, 7.7442e-04, 2.0399e-03, 5.2763e-04, 9.8756e-03,\n",
       "           3.6010e-04, 9.5143e-04],\n",
       "          [2.2666e-01, 2.2885e-02, 9.9752e-01, 3.2545e-01, 1.3804e-04,\n",
       "           1.7704e-01, 5.6846e-01],\n",
       "          [1.2357e-02, 1.5098e-02, 9.4491e-01, 6.7785e-01, 4.5893e-02,\n",
       "           5.9837e-06, 5.5216e-01]]]])"
      ]
     },
     "execution_count": 15,
     "metadata": {},
     "output_type": "execute_result"
    }
   ],
   "source": [
    "p = 3\n",
    "eps=1e-6\n",
    "x.clamp(min=eps).pow(p)"
   ]
  },
  {
   "cell_type": "code",
   "execution_count": null,
   "metadata": {},
   "outputs": [],
   "source": []
  }
 ],
 "metadata": {
  "kernelspec": {
   "display_name": "Python 3",
   "language": "python",
   "name": "python3"
  },
  "language_info": {
   "codemirror_mode": {
    "name": "ipython",
    "version": 3
   },
   "file_extension": ".py",
   "mimetype": "text/x-python",
   "name": "python",
   "nbconvert_exporter": "python",
   "pygments_lexer": "ipython3",
   "version": "3.7.1"
  }
 },
 "nbformat": 4,
 "nbformat_minor": 4
}
