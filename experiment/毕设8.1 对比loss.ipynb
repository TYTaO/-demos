{
 "cells": [
  {
   "cell_type": "code",
   "execution_count": 1,
   "metadata": {},
   "outputs": [
    {
     "name": "stdout",
     "output_type": "stream",
     "text": [
      "1.0.0\n",
      "0.2.1\n"
     ]
    }
   ],
   "source": [
    "%matplotlib inline\n",
    "import torch\n",
    "import torchvision\n",
    "import torch.nn.functional as F\n",
    "import matplotlib.pyplot as plt\n",
    "import torchvision.utils\n",
    "import numpy as np\n",
    "import random\n",
    "from PIL import Image\n",
    "import PIL.ImageOps \n",
    "print(torch.__version__)  #1.1.0\n",
    "print(torchvision.__version__)  #0.3.0\n",
    "from torch import nn, optim\n",
    "from torch.utils.data import Dataset, DataLoader\n",
    "import torchvision\n",
    "from torchvision.datasets import ImageFolder\n",
    "from torchvision import transforms\n",
    "from torchvision import models\n",
    "import os\n",
    "import time\n",
    "import copy\n",
    "import pickle as pk\n",
    "from PIL import Image\n",
    "import random\n",
    "\n",
    "import sys\n",
    "sys.path.append(\"..\") \n",
    "import d2lzh_pytorch as d2l\n",
    "import graduation_pytorch as gra\n",
    "\n",
    "\n",
    "device = torch.device('cuda' if torch.cuda.is_available() else 'cpu')\n",
    "from torchvision import transforms, datasets"
   ]
  },
  {
   "cell_type": "code",
   "execution_count": 2,
   "metadata": {},
   "outputs": [
    {
     "name": "stdout",
     "output_type": "stream",
     "text": [
      "device: cuda\n"
     ]
    }
   ],
   "source": [
    "## 创建训练的向量\n",
    "# Detect if we have a GPU available\n",
    "device = torch.device('cuda' if torch.cuda.is_available() else 'cpu')\n",
    "print('device:',device)\n",
    "batch_size = 32\n",
    "from torch.utils.data import Dataset, DataLoader\n",
    "def dataLoader():\n",
    "    normalize = transforms.Normalize(mean=[0.485, 0.456, 0.406], std=[0.229, 0.224, 0.225])\n",
    "    # mean = [0.485, 0.456, 0.406]  std = [0.229, 0.224, 0.225]\n",
    "    train_augs = transforms.Compose([\n",
    "        transforms.RandomResizedCrop(size=224),\n",
    "        transforms.RandomHorizontalFlip(),\n",
    "        transforms.ToTensor(),\n",
    "        normalize\n",
    "    ])\n",
    "    ##  !! train\n",
    "    Gallery_dataset = datasets.ImageFolder(root='../数据集/UCMerced_LandUse/data/train', transform=train_augs)\n",
    "    return Gallery_dataset\n",
    "Gallery_dataset = dataLoader()\n",
    "Gallery_loader = DataLoader(Gallery_dataset,\n",
    "                           batch_size = 32, shuffle=False)"
   ]
  },
  {
   "cell_type": "code",
   "execution_count": 3,
   "metadata": {},
   "outputs": [
    {
     "data": {
      "text/plain": [
       "Dataset ImageFolder\n",
       "    Number of datapoints: 1680\n",
       "    Root Location: ../数据集/UCMerced_LandUse/data/train\n",
       "    Transforms (if any): Compose(\n",
       "                             RandomResizedCrop(size=(224, 224), scale=(0.08, 1.0), ratio=(0.75, 1.3333), interpolation=PIL.Image.BILINEAR)\n",
       "                             RandomHorizontalFlip(p=0.5)\n",
       "                             ToTensor()\n",
       "                             Normalize(mean=[0.485, 0.456, 0.406], std=[0.229, 0.224, 0.225])\n",
       "                         )\n",
       "    Target Transforms (if any): None"
      ]
     },
     "execution_count": 3,
     "metadata": {},
     "output_type": "execute_result"
    }
   ],
   "source": [
    "Gallery_dataset"
   ]
  },
  {
   "cell_type": "code",
   "execution_count": 3,
   "metadata": {},
   "outputs": [],
   "source": [
    "from graduation_pytorch.pooling import RMAC"
   ]
  },
  {
   "cell_type": "code",
   "execution_count": 4,
   "metadata": {},
   "outputs": [],
   "source": [
    "## 加载模型：resnet34_whurisi_remote_finetune_\n",
    "pretrained_net = models.resnet34(pretrained=True)\n",
    "pretrained_net.fc = nn.Linear(512, 21)\n",
    "\n",
    "pretrained_net.avgpool = RMAC()\n",
    "PATH = \"./my_model/rmac_L=2_UcRemote_resnet34_fine-tune.pt\" # rmac  滑动窗口\n",
    "\n",
    "pretrained_net.fc = nn.Sequential()\n",
    "pretrained_net.load_state_dict(torch.load(PATH))"
   ]
  },
  {
   "cell_type": "code",
   "execution_count": 5,
   "metadata": {},
   "outputs": [],
   "source": [
    "pretrained_net = pretrained_net.to(device)"
   ]
  },
  {
   "cell_type": "code",
   "execution_count": 6,
   "metadata": {},
   "outputs": [
    {
     "data": {
      "text/plain": [
       "ResNet(\n",
       "  (conv1): Conv2d(3, 64, kernel_size=(7, 7), stride=(2, 2), padding=(3, 3), bias=False)\n",
       "  (bn1): BatchNorm2d(64, eps=1e-05, momentum=0.1, affine=True, track_running_stats=True)\n",
       "  (relu): ReLU(inplace)\n",
       "  (maxpool): MaxPool2d(kernel_size=3, stride=2, padding=1, dilation=1, ceil_mode=False)\n",
       "  (layer1): Sequential(\n",
       "    (0): BasicBlock(\n",
       "      (conv1): Conv2d(64, 64, kernel_size=(3, 3), stride=(1, 1), padding=(1, 1), bias=False)\n",
       "      (bn1): BatchNorm2d(64, eps=1e-05, momentum=0.1, affine=True, track_running_stats=True)\n",
       "      (relu): ReLU(inplace)\n",
       "      (conv2): Conv2d(64, 64, kernel_size=(3, 3), stride=(1, 1), padding=(1, 1), bias=False)\n",
       "      (bn2): BatchNorm2d(64, eps=1e-05, momentum=0.1, affine=True, track_running_stats=True)\n",
       "    )\n",
       "    (1): BasicBlock(\n",
       "      (conv1): Conv2d(64, 64, kernel_size=(3, 3), stride=(1, 1), padding=(1, 1), bias=False)\n",
       "      (bn1): BatchNorm2d(64, eps=1e-05, momentum=0.1, affine=True, track_running_stats=True)\n",
       "      (relu): ReLU(inplace)\n",
       "      (conv2): Conv2d(64, 64, kernel_size=(3, 3), stride=(1, 1), padding=(1, 1), bias=False)\n",
       "      (bn2): BatchNorm2d(64, eps=1e-05, momentum=0.1, affine=True, track_running_stats=True)\n",
       "    )\n",
       "    (2): BasicBlock(\n",
       "      (conv1): Conv2d(64, 64, kernel_size=(3, 3), stride=(1, 1), padding=(1, 1), bias=False)\n",
       "      (bn1): BatchNorm2d(64, eps=1e-05, momentum=0.1, affine=True, track_running_stats=True)\n",
       "      (relu): ReLU(inplace)\n",
       "      (conv2): Conv2d(64, 64, kernel_size=(3, 3), stride=(1, 1), padding=(1, 1), bias=False)\n",
       "      (bn2): BatchNorm2d(64, eps=1e-05, momentum=0.1, affine=True, track_running_stats=True)\n",
       "    )\n",
       "  )\n",
       "  (layer2): Sequential(\n",
       "    (0): BasicBlock(\n",
       "      (conv1): Conv2d(64, 128, kernel_size=(3, 3), stride=(2, 2), padding=(1, 1), bias=False)\n",
       "      (bn1): BatchNorm2d(128, eps=1e-05, momentum=0.1, affine=True, track_running_stats=True)\n",
       "      (relu): ReLU(inplace)\n",
       "      (conv2): Conv2d(128, 128, kernel_size=(3, 3), stride=(1, 1), padding=(1, 1), bias=False)\n",
       "      (bn2): BatchNorm2d(128, eps=1e-05, momentum=0.1, affine=True, track_running_stats=True)\n",
       "      (downsample): Sequential(\n",
       "        (0): Conv2d(64, 128, kernel_size=(1, 1), stride=(2, 2), bias=False)\n",
       "        (1): BatchNorm2d(128, eps=1e-05, momentum=0.1, affine=True, track_running_stats=True)\n",
       "      )\n",
       "    )\n",
       "    (1): BasicBlock(\n",
       "      (conv1): Conv2d(128, 128, kernel_size=(3, 3), stride=(1, 1), padding=(1, 1), bias=False)\n",
       "      (bn1): BatchNorm2d(128, eps=1e-05, momentum=0.1, affine=True, track_running_stats=True)\n",
       "      (relu): ReLU(inplace)\n",
       "      (conv2): Conv2d(128, 128, kernel_size=(3, 3), stride=(1, 1), padding=(1, 1), bias=False)\n",
       "      (bn2): BatchNorm2d(128, eps=1e-05, momentum=0.1, affine=True, track_running_stats=True)\n",
       "    )\n",
       "    (2): BasicBlock(\n",
       "      (conv1): Conv2d(128, 128, kernel_size=(3, 3), stride=(1, 1), padding=(1, 1), bias=False)\n",
       "      (bn1): BatchNorm2d(128, eps=1e-05, momentum=0.1, affine=True, track_running_stats=True)\n",
       "      (relu): ReLU(inplace)\n",
       "      (conv2): Conv2d(128, 128, kernel_size=(3, 3), stride=(1, 1), padding=(1, 1), bias=False)\n",
       "      (bn2): BatchNorm2d(128, eps=1e-05, momentum=0.1, affine=True, track_running_stats=True)\n",
       "    )\n",
       "    (3): BasicBlock(\n",
       "      (conv1): Conv2d(128, 128, kernel_size=(3, 3), stride=(1, 1), padding=(1, 1), bias=False)\n",
       "      (bn1): BatchNorm2d(128, eps=1e-05, momentum=0.1, affine=True, track_running_stats=True)\n",
       "      (relu): ReLU(inplace)\n",
       "      (conv2): Conv2d(128, 128, kernel_size=(3, 3), stride=(1, 1), padding=(1, 1), bias=False)\n",
       "      (bn2): BatchNorm2d(128, eps=1e-05, momentum=0.1, affine=True, track_running_stats=True)\n",
       "    )\n",
       "  )\n",
       "  (layer3): Sequential(\n",
       "    (0): BasicBlock(\n",
       "      (conv1): Conv2d(128, 256, kernel_size=(3, 3), stride=(2, 2), padding=(1, 1), bias=False)\n",
       "      (bn1): BatchNorm2d(256, eps=1e-05, momentum=0.1, affine=True, track_running_stats=True)\n",
       "      (relu): ReLU(inplace)\n",
       "      (conv2): Conv2d(256, 256, kernel_size=(3, 3), stride=(1, 1), padding=(1, 1), bias=False)\n",
       "      (bn2): BatchNorm2d(256, eps=1e-05, momentum=0.1, affine=True, track_running_stats=True)\n",
       "      (downsample): Sequential(\n",
       "        (0): Conv2d(128, 256, kernel_size=(1, 1), stride=(2, 2), bias=False)\n",
       "        (1): BatchNorm2d(256, eps=1e-05, momentum=0.1, affine=True, track_running_stats=True)\n",
       "      )\n",
       "    )\n",
       "    (1): BasicBlock(\n",
       "      (conv1): Conv2d(256, 256, kernel_size=(3, 3), stride=(1, 1), padding=(1, 1), bias=False)\n",
       "      (bn1): BatchNorm2d(256, eps=1e-05, momentum=0.1, affine=True, track_running_stats=True)\n",
       "      (relu): ReLU(inplace)\n",
       "      (conv2): Conv2d(256, 256, kernel_size=(3, 3), stride=(1, 1), padding=(1, 1), bias=False)\n",
       "      (bn2): BatchNorm2d(256, eps=1e-05, momentum=0.1, affine=True, track_running_stats=True)\n",
       "    )\n",
       "    (2): BasicBlock(\n",
       "      (conv1): Conv2d(256, 256, kernel_size=(3, 3), stride=(1, 1), padding=(1, 1), bias=False)\n",
       "      (bn1): BatchNorm2d(256, eps=1e-05, momentum=0.1, affine=True, track_running_stats=True)\n",
       "      (relu): ReLU(inplace)\n",
       "      (conv2): Conv2d(256, 256, kernel_size=(3, 3), stride=(1, 1), padding=(1, 1), bias=False)\n",
       "      (bn2): BatchNorm2d(256, eps=1e-05, momentum=0.1, affine=True, track_running_stats=True)\n",
       "    )\n",
       "    (3): BasicBlock(\n",
       "      (conv1): Conv2d(256, 256, kernel_size=(3, 3), stride=(1, 1), padding=(1, 1), bias=False)\n",
       "      (bn1): BatchNorm2d(256, eps=1e-05, momentum=0.1, affine=True, track_running_stats=True)\n",
       "      (relu): ReLU(inplace)\n",
       "      (conv2): Conv2d(256, 256, kernel_size=(3, 3), stride=(1, 1), padding=(1, 1), bias=False)\n",
       "      (bn2): BatchNorm2d(256, eps=1e-05, momentum=0.1, affine=True, track_running_stats=True)\n",
       "    )\n",
       "    (4): BasicBlock(\n",
       "      (conv1): Conv2d(256, 256, kernel_size=(3, 3), stride=(1, 1), padding=(1, 1), bias=False)\n",
       "      (bn1): BatchNorm2d(256, eps=1e-05, momentum=0.1, affine=True, track_running_stats=True)\n",
       "      (relu): ReLU(inplace)\n",
       "      (conv2): Conv2d(256, 256, kernel_size=(3, 3), stride=(1, 1), padding=(1, 1), bias=False)\n",
       "      (bn2): BatchNorm2d(256, eps=1e-05, momentum=0.1, affine=True, track_running_stats=True)\n",
       "    )\n",
       "    (5): BasicBlock(\n",
       "      (conv1): Conv2d(256, 256, kernel_size=(3, 3), stride=(1, 1), padding=(1, 1), bias=False)\n",
       "      (bn1): BatchNorm2d(256, eps=1e-05, momentum=0.1, affine=True, track_running_stats=True)\n",
       "      (relu): ReLU(inplace)\n",
       "      (conv2): Conv2d(256, 256, kernel_size=(3, 3), stride=(1, 1), padding=(1, 1), bias=False)\n",
       "      (bn2): BatchNorm2d(256, eps=1e-05, momentum=0.1, affine=True, track_running_stats=True)\n",
       "    )\n",
       "  )\n",
       "  (layer4): Sequential(\n",
       "    (0): BasicBlock(\n",
       "      (conv1): Conv2d(256, 512, kernel_size=(3, 3), stride=(2, 2), padding=(1, 1), bias=False)\n",
       "      (bn1): BatchNorm2d(512, eps=1e-05, momentum=0.1, affine=True, track_running_stats=True)\n",
       "      (relu): ReLU(inplace)\n",
       "      (conv2): Conv2d(512, 512, kernel_size=(3, 3), stride=(1, 1), padding=(1, 1), bias=False)\n",
       "      (bn2): BatchNorm2d(512, eps=1e-05, momentum=0.1, affine=True, track_running_stats=True)\n",
       "      (downsample): Sequential(\n",
       "        (0): Conv2d(256, 512, kernel_size=(1, 1), stride=(2, 2), bias=False)\n",
       "        (1): BatchNorm2d(512, eps=1e-05, momentum=0.1, affine=True, track_running_stats=True)\n",
       "      )\n",
       "    )\n",
       "    (1): BasicBlock(\n",
       "      (conv1): Conv2d(512, 512, kernel_size=(3, 3), stride=(1, 1), padding=(1, 1), bias=False)\n",
       "      (bn1): BatchNorm2d(512, eps=1e-05, momentum=0.1, affine=True, track_running_stats=True)\n",
       "      (relu): ReLU(inplace)\n",
       "      (conv2): Conv2d(512, 512, kernel_size=(3, 3), stride=(1, 1), padding=(1, 1), bias=False)\n",
       "      (bn2): BatchNorm2d(512, eps=1e-05, momentum=0.1, affine=True, track_running_stats=True)\n",
       "    )\n",
       "    (2): BasicBlock(\n",
       "      (conv1): Conv2d(512, 512, kernel_size=(3, 3), stride=(1, 1), padding=(1, 1), bias=False)\n",
       "      (bn1): BatchNorm2d(512, eps=1e-05, momentum=0.1, affine=True, track_running_stats=True)\n",
       "      (relu): ReLU(inplace)\n",
       "      (conv2): Conv2d(512, 512, kernel_size=(3, 3), stride=(1, 1), padding=(1, 1), bias=False)\n",
       "      (bn2): BatchNorm2d(512, eps=1e-05, momentum=0.1, affine=True, track_running_stats=True)\n",
       "    )\n",
       "  )\n",
       "  (avgpool): RMAC(L=3)\n",
       "  (fc): Sequential()\n",
       ")"
      ]
     },
     "execution_count": 6,
     "metadata": {},
     "output_type": "execute_result"
    }
   ],
   "source": [
    "# 用于将图片转化成向量\n",
    "pretrained_net.eval()"
   ]
  },
  {
   "cell_type": "code",
   "execution_count": 34,
   "metadata": {},
   "outputs": [],
   "source": [
    "i = 0\n",
    "# Iterate over data.\n",
    "for inputs, labels in Gallery_loader:\n",
    "    i += 1\n",
    "    inputs = inputs.to(device)\n",
    "    labels = labels.to(device)\n",
    "\n",
    "    outputs = pretrained_net(inputs)\n",
    "    if i == 1:\n",
    "        break"
   ]
  },
  {
   "cell_type": "code",
   "execution_count": 36,
   "metadata": {},
   "outputs": [
    {
     "data": {
      "text/plain": [
       "torch.Size([32, 512])"
      ]
     },
     "execution_count": 36,
     "metadata": {},
     "output_type": "execute_result"
    }
   ],
   "source": [
    "outputs.shape"
   ]
  },
  {
   "cell_type": "markdown",
   "metadata": {},
   "source": [
    "## demo 一个简单的只涉及全连接层的网络，使用对比损失"
   ]
  },
  {
   "cell_type": "code",
   "execution_count": 37,
   "metadata": {},
   "outputs": [],
   "source": [
    "#自定义Dataset类，__getitem__(self,index)每次返回(img1, img2, 0/1) 返回相同0  或不同类图片1\n",
    "class UcLandSiameseNetworkDataset(Dataset):\n",
    "    \n",
    "    def __init__(self,imageFolderDataset,transform=None,should_invert=True):\n",
    "        self.imageFolderDataset = imageFolderDataset    \n",
    "        self.transform = transform\n",
    "        self.should_invert = should_invert\n",
    "        \n",
    "    def __getitem__(self,index):\n",
    "        img0_tuple = random.choice(self.imageFolderDataset.imgs) #37个类别中任选一个       待\n",
    "        should_get_same_class = random.randint(0,1) #保证同类样本约占一半  0: 50%  1: 50%\n",
    "        if should_get_same_class:\n",
    "            while True:\n",
    "                #直到找到同一类别  找到为止\n",
    "                img1_tuple = random.choice(self.imageFolderDataset.imgs) \n",
    "                if img0_tuple[1]==img1_tuple[1]:\n",
    "                    break\n",
    "        else:\n",
    "            while True:\n",
    "                #直到找到非同一类别\n",
    "                img1_tuple = random.choice(self.imageFolderDataset.imgs) \n",
    "                if img0_tuple[1] !=img1_tuple[1]:\n",
    "                    break\n",
    "\n",
    "        img0 = Image.open(img0_tuple[0])\n",
    "        img1 = Image.open(img1_tuple[0])\n",
    "\n",
    "        if self.transform is not None:\n",
    "            img0 = self.transform(img0)\n",
    "            img1 = self.transform(img1)\n",
    "        \n",
    "        return img0, img1, torch.from_numpy(np.array([int(img1_tuple[1]!=img0_tuple[1])],dtype=np.float32))\n",
    "    \n",
    "    def __len__(self):\n",
    "        return len(self.imageFolderDataset.imgs)"
   ]
  },
  {
   "cell_type": "code",
   "execution_count": 42,
   "metadata": {},
   "outputs": [],
   "source": [
    "#定义文件dataset\n",
    "normalize = transforms.Normalize(mean=[0.485, 0.456, 0.406], std=[0.229, 0.224, 0.225])\n",
    "# mean = [0.485, 0.456, 0.406]  std = [0.229, 0.224, 0.225]\n",
    "train_augs = transforms.Compose([\n",
    "    transforms.RandomResizedCrop(size=224),\n",
    "    transforms.RandomHorizontalFlip(),\n",
    "    transforms.ToTensor(),\n",
    "    normalize\n",
    "])\n",
    "training_dir = '../数据集/UCMerced_LandUse/data/train'  #训练集地址\n",
    "folder_dataset = torchvision.datasets.ImageFolder(root=training_dir, transform=train_augs)"
   ]
  },
  {
   "cell_type": "code",
   "execution_count": 49,
   "metadata": {},
   "outputs": [],
   "source": [
    "#定义图像dataset\n",
    "siamese_dataset = UcLandSiameseNetworkDataset(imageFolderDataset=folder_dataset,\n",
    "                                        transform=train_augs,\n",
    "                                        should_invert=False)"
   ]
  },
  {
   "cell_type": "code",
   "execution_count": 51,
   "metadata": {},
   "outputs": [
    {
     "data": {
      "text/plain": [
       "torch.Size([3, 224, 224])"
      ]
     },
     "execution_count": 51,
     "metadata": {},
     "output_type": "execute_result"
    }
   ],
   "source": [
    "siamese_dataset[0][1].shape"
   ]
  },
  {
   "cell_type": "code",
   "execution_count": 60,
   "metadata": {},
   "outputs": [],
   "source": [
    "#定义图像dataloader\n",
    "train_dataloader = DataLoader(siamese_dataset,\n",
    "                            shuffle=True,\n",
    "                            batch_size=32)"
   ]
  },
  {
   "cell_type": "code",
   "execution_count": 7,
   "metadata": {},
   "outputs": [],
   "source": [
    "#搭建模型\n",
    "class SiameseNetwork(nn.Module):\n",
    "    \n",
    "    def __init__(self):\n",
    "        super().__init__()\n",
    "        num_inputs, num_outputs, num_hiddens = 512, 512, 1024\n",
    "        # 转向量\n",
    "        self.pre = pretrained_net\n",
    "\n",
    "        self.fc1 = nn.Sequential(\n",
    "            nn.Linear(num_inputs, num_hiddens),\n",
    "            nn.ReLU(),\n",
    "            nn.Linear(num_hiddens, num_outputs), \n",
    "        )\n",
    "\n",
    "    def forward_once(self, x):\n",
    "        output = self.pre(x)\n",
    "#         output = output.view(output.size()[0], -1)\n",
    "        output = self.fc1(output)\n",
    "        return output\n",
    "\n",
    "    def forward(self, input1, input2):\n",
    "        output1 = self.forward_once(input1)\n",
    "        output2 = self.forward_once(input2)\n",
    "        return output1, output2\n",
    "    \n",
    "    \n",
    "#自定义ContrastiveLoss\n",
    "class ContrastiveLoss(torch.nn.Module):\n",
    "    \"\"\"\n",
    "    Contrastive loss function.\n",
    "    Based on: http://yann.lecun.com/exdb/publis/pdf/hadsell-chopra-lecun-06.pdf\n",
    "    \"\"\"\n",
    "\n",
    "    def __init__(self, margin=2.0):\n",
    "        super(ContrastiveLoss, self).__init__()\n",
    "        self.margin = margin\n",
    "\n",
    "    def forward(self, output1, output2, label):\n",
    "        euclidean_distance = F.pairwise_distance(output1, output2, keepdim = True)\n",
    "        # 公式\n",
    "        loss_contrastive = torch.mean((1-label) * torch.pow(euclidean_distance, 2) +  \n",
    "                                      (label) * torch.pow(torch.clamp(self.margin - euclidean_distance, min=0.0), 2))\n",
    "\n",
    "        return loss_contrastive"
   ]
  },
  {
   "cell_type": "code",
   "execution_count": 8,
   "metadata": {},
   "outputs": [],
   "source": [
    "net = SiameseNetwork().cuda() #定义模型且移至GPU"
   ]
  },
  {
   "cell_type": "code",
   "execution_count": 57,
   "metadata": {},
   "outputs": [],
   "source": [
    "criterion = ContrastiveLoss() #定义损失函数\n",
    "optimizer = optim.Adam(net.parameters(), lr = 0.0005) #定义优化器"
   ]
  },
  {
   "cell_type": "code",
   "execution_count": 63,
   "metadata": {},
   "outputs": [
    {
     "name": "stdout",
     "output_type": "stream",
     "text": [
      "Epoch number: 0 , Current loss: 1.4577\n",
      "\n",
      "Epoch number: 1 , Current loss: 1.3215\n",
      "\n",
      "Epoch number: 2 , Current loss: 1.2067\n",
      "\n",
      "Epoch number: 3 , Current loss: 1.1659\n",
      "\n",
      "Epoch number: 4 , Current loss: 1.1277\n",
      "\n"
     ]
    },
    {
     "data": {
      "image/png": "[encoded data removed]",
      "text/plain": [
       "<Figure size 432x288 with 1 Axes>"
      ]
     },
     "metadata": {
      "needs_background": "light"
     },
     "output_type": "display_data"
    }
   ],
   "source": [
    "def show_plot(iteration,loss):\n",
    "    #绘制损失变化图\n",
    "    plt.plot(iteration,loss)\n",
    "    plt.show()\n",
    "num_epochs = 5\n",
    "\n",
    "counter = []\n",
    "loss_history = [] \n",
    "iteration_number = 0\n",
    "\n",
    "#开始训练\n",
    "for epoch in range(0, num_epochs):\n",
    "    for i, data in enumerate(train_dataloader, 0):\n",
    "        img0, img1 , label = data\n",
    "        #img0维度为torch.Size([32, 1, 100, 100])，32是batch，label为torch.Size([32, 1])\n",
    "        img0, img1 , label = img0.cuda(), img1.cuda(), label.cuda() #数据移至GPU\n",
    "        optimizer.zero_grad()\n",
    "        output1,output2 = net(img0, img1)\n",
    "        loss_contrastive = criterion(output1, output2, label)\n",
    "        loss_contrastive.backward()\n",
    "        optimizer.step()\n",
    "        if i % 10 == 0 :\n",
    "            iteration_number +=10\n",
    "            counter.append(iteration_number)\n",
    "            loss_history.append(loss_contrastive.item())\n",
    "    print(\"Epoch number: {} , Current loss: {:.4f}\\n\".format(epoch,loss_contrastive.item()))\n",
    "    \n",
    "show_plot(counter, loss_history)"
   ]
  },
  {
   "cell_type": "code",
   "execution_count": 65,
   "metadata": {},
   "outputs": [],
   "source": [
    "net.eval()\n",
    "for i, data in enumerate(train_dataloader, 0):\n",
    "    img0, img1 , label = data\n",
    "    img0, img1 , label = img0.cuda(), img1.cuda(), label.cuda() #数据移至GPU\n",
    "    output = net.forward_once(img0)\n",
    "    if i == 2:\n",
    "        break"
   ]
  },
  {
   "cell_type": "code",
   "execution_count": 68,
   "metadata": {},
   "outputs": [
    {
     "data": {
      "text/plain": [
       "torch.Size([32, 512])"
      ]
     },
     "execution_count": 68,
     "metadata": {},
     "output_type": "execute_result"
    }
   ],
   "source": [
    "output.shape"
   ]
  },
  {
   "cell_type": "code",
   "execution_count": 69,
   "metadata": {},
   "outputs": [],
   "source": [
    "ff = outputs.data.cpu()\n",
    "# norm feature\n",
    "fnorm = torch.norm(ff, p=2, dim=1, keepdim=True)\n",
    "ff = ff.div(fnorm.expand_as(ff))"
   ]
  },
  {
   "cell_type": "code",
   "execution_count": 70,
   "metadata": {},
   "outputs": [
    {
     "data": {
      "text/plain": [
       "torch.Size([32, 512])"
      ]
     },
     "execution_count": 70,
     "metadata": {},
     "output_type": "execute_result"
    }
   ],
   "source": [
    "ff.shape"
   ]
  },
  {
   "cell_type": "code",
   "execution_count": 71,
   "metadata": {},
   "outputs": [],
   "source": [
    "# 封装距离比较函数\n",
    "def similarity_of_two(img_data1, img_data2):\n",
    "    out = (img_data1*img_data2)\n",
    "    return out.sum()"
   ]
  },
  {
   "cell_type": "code",
   "execution_count": 73,
   "metadata": {},
   "outputs": [
    {
     "data": {
      "text/plain": [
       "tensor(0.9553)"
      ]
     },
     "execution_count": 73,
     "metadata": {},
     "output_type": "execute_result"
    }
   ],
   "source": [
    "similarity_of_two(ff[0], ff[1])"
   ]
  },
  {
   "cell_type": "code",
   "execution_count": 74,
   "metadata": {},
   "outputs": [],
   "source": [
    "PATH = \"./my_model/test1_conLoss_rmac_L=2_UcRemote_resnet34_fine-tune.pt\"\n",
    "torch.save(net.state_dict(), PATH)"
   ]
  },
  {
   "cell_type": "code",
   "execution_count": null,
   "metadata": {},
   "outputs": [],
   "source": []
  },
  {
   "cell_type": "markdown",
   "metadata": {},
   "source": [
    "## 使用测试集测试"
   ]
  },
  {
   "cell_type": "code",
   "execution_count": 9,
   "metadata": {},
   "outputs": [
    {
     "ename": "RuntimeError",
     "evalue": "Error(s) in loading state_dict for ResNet:\n\tMissing key(s) in state_dict: \"conv1.weight\", \"bn1.weight\", \"bn1.bias\", \"bn1.running_mean\", \"bn1.running_var\", \"layer1.0.conv1.weight\", \"layer1.0.bn1.weight\", \"layer1.0.bn1.bias\", \"layer1.0.bn1.running_mean\", \"layer1.0.bn1.running_var\", \"layer1.0.conv2.weight\", \"layer1.0.bn2.weight\", \"layer1.0.bn2.bias\", \"layer1.0.bn2.running_mean\", \"layer1.0.bn2.running_var\", \"layer1.1.conv1.weight\", \"layer1.1.bn1.weight\", \"layer1.1.bn1.bias\", \"layer1.1.bn1.running_mean\", \"layer1.1.bn1.running_var\", \"layer1.1.conv2.weight\", \"layer1.1.bn2.weight\", \"layer1.1.bn2.bias\", \"layer1.1.bn2.running_mean\", \"layer1.1.bn2.running_var\", \"layer1.2.conv1.weight\", \"layer1.2.bn1.weight\", \"layer1.2.bn1.bias\", \"layer1.2.bn1.running_mean\", \"layer1.2.bn1.running_var\", \"layer1.2.conv2.weight\", \"layer1.2.bn2.weight\", \"layer1.2.bn2.bias\", \"layer1.2.bn2.running_mean\", \"layer1.2.bn2.running_var\", \"layer2.0.conv1.weight\", \"layer2.0.bn1.weight\", \"layer2.0.bn1.bias\", \"layer2.0.bn1.running_mean\", \"layer2.0.bn1.running_var\", \"layer2.0.conv2.weight\", \"layer2.0.bn2.weight\", \"layer2.0.bn2.bias\", \"layer2.0.bn2.running_mean\", \"layer2.0.bn2.running_var\", \"layer2.0.downsample.0.weight\", \"layer2.0.downsample.1.weight\", \"layer2.0.downsample.1.bias\", \"layer2.0.downsample.1.running_mean\", \"layer2.0.downsample.1.running_var\", \"layer2.1.conv1.weight\", \"layer2.1.bn1.weight\", \"layer2.1.bn1.bias\", \"layer2.1.bn1.running_mean\", \"layer2.1.bn1.running_var\", \"layer2.1.conv2.weight\", \"layer2.1.bn2.weight\", \"layer2.1.bn2.bias\", \"layer2.1.bn2.running_mean\", \"layer2.1.bn2.running_var\", \"layer2.2.conv1.weight\", \"layer2.2.bn1.weight\", \"layer2.2.bn1.bias\", \"layer2.2.bn1.running_mean\", \"layer2.2.bn1.running_var\", \"layer2.2.conv2.weight\", \"layer2.2.bn2.weight\", \"layer2.2.bn2.bias\", \"layer2.2.bn2.running_mean\", \"layer2.2.bn2.running_var\", \"layer2.3.conv1.weight\", \"layer2.3.bn1.weight\", \"layer2.3.bn1.bias\", \"layer2.3.bn1.running_mean\", \"layer2.3.bn1.running_var\", \"layer2.3.conv2.weight\", \"layer2.3.bn2.weight\", \"layer2.3.bn2.bias\", \"layer2.3.bn2.running_mean\", \"layer2.3.bn2.running_var\", \"layer3.0.conv1.weight\", \"layer3.0.bn1.weight\", \"layer3.0.bn1.bias\", \"layer3.0.bn1.running_mean\", \"layer3.0.bn1.running_var\", \"layer3.0.conv2.weight\", \"layer3.0.bn2.weight\", \"layer3.0.bn2.bias\", \"layer3.0.bn2.running_mean\", \"layer3.0.bn2.running_var\", \"layer3.0.downsample.0.weight\", \"layer3.0.downsample.1.weight\", \"layer3.0.downsample.1.bias\", \"layer3.0.downsample.1.running_mean\", \"layer3.0.downsample.1.running_var\", \"layer3.1.conv1.weight\", \"layer3.1.bn1.weight\", \"layer3.1.bn1.bias\", \"layer3.1.bn1.running_mean\", \"layer3.1.bn1.running_var\", \"layer3.1.conv2.weight\", \"layer3.1.bn2.weight\", \"layer3.1.bn2.bias\", \"layer3.1.bn2.running_mean\", \"layer3.1.bn2.running_var\", \"layer3.2.conv1.weight\", \"layer3.2.bn1.weight\", \"layer3.2.bn1.bias\", \"layer3.2.bn1.running_mean\", \"layer3.2.bn1.running_var\", \"layer3.2.conv2.weight\", \"layer3.2.bn2.weight\", \"layer3.2.bn2.bias\", \"layer3.2.bn2.running_mean\", \"layer3.2.bn2.running_var\", \"layer3.3.conv1.weight\", \"layer3.3.bn1.weight\", \"layer3.3.bn1.bias\", \"layer3.3.bn1.running_mean\", \"layer3.3.bn1.running_var\", \"layer3.3.conv2.weight\", \"layer3.3.bn2.weight\", \"layer3.3.bn2.bias\", \"layer3.3.bn2.running_mean\", \"layer3.3.bn2.running_var\", \"layer3.4.conv1.weight\", \"layer3.4.bn1.weight\", \"layer3.4.bn1.bias\", \"layer3.4.bn1.running_mean\", \"layer3.4.bn1.running_var\", \"layer3.4.conv2.weight\", \"layer3.4.bn2.weight\", \"layer3.4.bn2.bias\", \"layer3.4.bn2.running_mean\", \"layer3.4.bn2.running_var\", \"layer3.5.conv1.weight\", \"layer3.5.bn1.weight\", \"layer3.5.bn1.bias\", \"layer3.5.bn1.running_mean\", \"layer3.5.bn1.running_var\", \"layer3.5.conv2.weight\", \"layer3.5.bn2.weight\", \"layer3.5.bn2.bias\", \"layer3.5.bn2.running_mean\", \"layer3.5.bn2.running_var\", \"layer4.0.conv1.weight\", \"layer4.0.bn1.weight\", \"layer4.0.bn1.bias\", \"layer4.0.bn1.running_mean\", \"layer4.0.bn1.running_var\", \"layer4.0.conv2.weight\", \"layer4.0.bn2.weight\", \"layer4.0.bn2.bias\", \"layer4.0.bn2.running_mean\", \"layer4.0.bn2.running_var\", \"layer4.0.downsample.0.weight\", \"layer4.0.downsample.1.weight\", \"layer4.0.downsample.1.bias\", \"layer4.0.downsample.1.running_mean\", \"layer4.0.downsample.1.running_var\", \"layer4.1.conv1.weight\", \"layer4.1.bn1.weight\", \"layer4.1.bn1.bias\", \"layer4.1.bn1.running_mean\", \"layer4.1.bn1.running_var\", \"layer4.1.conv2.weight\", \"layer4.1.bn2.weight\", \"layer4.1.bn2.bias\", \"layer4.1.bn2.running_mean\", \"layer4.1.bn2.running_var\", \"layer4.2.conv1.weight\", \"layer4.2.bn1.weight\", \"layer4.2.bn1.bias\", \"layer4.2.bn1.running_mean\", \"layer4.2.bn1.running_var\", \"layer4.2.conv2.weight\", \"layer4.2.bn2.weight\", \"layer4.2.bn2.bias\", \"layer4.2.bn2.running_mean\", \"layer4.2.bn2.running_var\". \n\tUnexpected key(s) in state_dict: \"pre.conv1.weight\", \"pre.bn1.weight\", \"pre.bn1.bias\", \"pre.bn1.running_mean\", \"pre.bn1.running_var\", \"pre.bn1.num_batches_tracked\", \"pre.layer1.0.conv1.weight\", \"pre.layer1.0.bn1.weight\", \"pre.layer1.0.bn1.bias\", \"pre.layer1.0.bn1.running_mean\", \"pre.layer1.0.bn1.running_var\", \"pre.layer1.0.bn1.num_batches_tracked\", \"pre.layer1.0.conv2.weight\", \"pre.layer1.0.bn2.weight\", \"pre.layer1.0.bn2.bias\", \"pre.layer1.0.bn2.running_mean\", \"pre.layer1.0.bn2.running_var\", \"pre.layer1.0.bn2.num_batches_tracked\", \"pre.layer1.1.conv1.weight\", \"pre.layer1.1.bn1.weight\", \"pre.layer1.1.bn1.bias\", \"pre.layer1.1.bn1.running_mean\", \"pre.layer1.1.bn1.running_var\", \"pre.layer1.1.bn1.num_batches_tracked\", \"pre.layer1.1.conv2.weight\", \"pre.layer1.1.bn2.weight\", \"pre.layer1.1.bn2.bias\", \"pre.layer1.1.bn2.running_mean\", \"pre.layer1.1.bn2.running_var\", \"pre.layer1.1.bn2.num_batches_tracked\", \"pre.layer1.2.conv1.weight\", \"pre.layer1.2.bn1.weight\", \"pre.layer1.2.bn1.bias\", \"pre.layer1.2.bn1.running_mean\", \"pre.layer1.2.bn1.running_var\", \"pre.layer1.2.bn1.num_batches_tracked\", \"pre.layer1.2.conv2.weight\", \"pre.layer1.2.bn2.weight\", \"pre.layer1.2.bn2.bias\", \"pre.layer1.2.bn2.running_mean\", \"pre.layer1.2.bn2.running_var\", \"pre.layer1.2.bn2.num_batches_tracked\", \"pre.layer2.0.conv1.weight\", \"pre.layer2.0.bn1.weight\", \"pre.layer2.0.bn1.bias\", \"pre.layer2.0.bn1.running_mean\", \"pre.layer2.0.bn1.running_var\", \"pre.layer2.0.bn1.num_batches_tracked\", \"pre.layer2.0.conv2.weight\", \"pre.layer2.0.bn2.weight\", \"pre.layer2.0.bn2.bias\", \"pre.layer2.0.bn2.running_mean\", \"pre.layer2.0.bn2.running_var\", \"pre.layer2.0.bn2.num_batches_tracked\", \"pre.layer2.0.downsample.0.weight\", \"pre.layer2.0.downsample.1.weight\", \"pre.layer2.0.downsample.1.bias\", \"pre.layer2.0.downsample.1.running_mean\", \"pre.layer2.0.downsample.1.running_var\", \"pre.layer2.0.downsample.1.num_batches_tracked\", \"pre.layer2.1.conv1.weight\", \"pre.layer2.1.bn1.weight\", \"pre.layer2.1.bn1.bias\", \"pre.layer2.1.bn1.running_mean\", \"pre.layer2.1.bn1.running_var\", \"pre.layer2.1.bn1.num_batches_tracked\", \"pre.layer2.1.conv2.weight\", \"pre.layer2.1.bn2.weight\", \"pre.layer2.1.bn2.bias\", \"pre.layer2.1.bn2.running_mean\", \"pre.layer2.1.bn2.running_var\", \"pre.layer2.1.bn2.num_batches_tracked\", \"pre.layer2.2.conv1.weight\", \"pre.layer2.2.bn1.weight\", \"pre.layer2.2.bn1.bias\", \"pre.layer2.2.bn1.running_mean\", \"pre.layer2.2.bn1.running_var\", \"pre.layer2.2.bn1.num_batches_tracked\", \"pre.layer2.2.conv2.weight\", \"pre.layer2.2.bn2.weight\", \"pre.layer2.2.bn2.bias\", \"pre.layer2.2.bn2.running_mean\", \"pre.layer2.2.bn2.running_var\", \"pre.layer2.2.bn2.num_batches_tracked\", \"pre.layer2.3.conv1.weight\", \"pre.layer2.3.bn1.weight\", \"pre.layer2.3.bn1.bias\", \"pre.layer2.3.bn1.running_mean\", \"pre.layer2.3.bn1.running_var\", \"pre.layer2.3.bn1.num_batches_tracked\", \"pre.layer2.3.conv2.weight\", \"pre.layer2.3.bn2.weight\", \"pre.layer2.3.bn2.bias\", \"pre.layer2.3.bn2.running_mean\", \"pre.layer2.3.bn2.running_var\", \"pre.layer2.3.bn2.num_batches_tracked\", \"pre.layer3.0.conv1.weight\", \"pre.layer3.0.bn1.weight\", \"pre.layer3.0.bn1.bias\", \"pre.layer3.0.bn1.running_mean\", \"pre.layer3.0.bn1.running_var\", \"pre.layer3.0.bn1.num_batches_tracked\", \"pre.layer3.0.conv2.weight\", \"pre.layer3.0.bn2.weight\", \"pre.layer3.0.bn2.bias\", \"pre.layer3.0.bn2.running_mean\", \"pre.layer3.0.bn2.running_var\", \"pre.layer3.0.bn2.num_batches_tracked\", \"pre.layer3.0.downsample.0.weight\", \"pre.layer3.0.downsample.1.weight\", \"pre.layer3.0.downsample.1.bias\", \"pre.layer3.0.downsample.1.running_mean\", \"pre.layer3.0.downsample.1.running_var\", \"pre.layer3.0.downsample.1.num_batches_tracked\", \"pre.layer3.1.conv1.weight\", \"pre.layer3.1.bn1.weight\", \"pre.layer3.1.bn1.bias\", \"pre.layer3.1.bn1.running_mean\", \"pre.layer3.1.bn1.running_var\", \"pre.layer3.1.bn1.num_batches_tracked\", \"pre.layer3.1.conv2.weight\", \"pre.layer3.1.bn2.weight\", \"pre.layer3.1.bn2.bias\", \"pre.layer3.1.bn2.running_mean\", \"pre.layer3.1.bn2.running_var\", \"pre.layer3.1.bn2.num_batches_tracked\", \"pre.layer3.2.conv1.weight\", \"pre.layer3.2.bn1.weight\", \"pre.layer3.2.bn1.bias\", \"pre.layer3.2.bn1.running_mean\", \"pre.layer3.2.bn1.running_var\", \"pre.layer3.2.bn1.num_batches_tracked\", \"pre.layer3.2.conv2.weight\", \"pre.layer3.2.bn2.weight\", \"pre.layer3.2.bn2.bias\", \"pre.layer3.2.bn2.running_mean\", \"pre.layer3.2.bn2.running_var\", \"pre.layer3.2.bn2.num_batches_tracked\", \"pre.layer3.3.conv1.weight\", \"pre.layer3.3.bn1.weight\", \"pre.layer3.3.bn1.bias\", \"pre.layer3.3.bn1.running_mean\", \"pre.layer3.3.bn1.running_var\", \"pre.layer3.3.bn1.num_batches_tracked\", \"pre.layer3.3.conv2.weight\", \"pre.layer3.3.bn2.weight\", \"pre.layer3.3.bn2.bias\", \"pre.layer3.3.bn2.running_mean\", \"pre.layer3.3.bn2.running_var\", \"pre.layer3.3.bn2.num_batches_tracked\", \"pre.layer3.4.conv1.weight\", \"pre.layer3.4.bn1.weight\", \"pre.layer3.4.bn1.bias\", \"pre.layer3.4.bn1.running_mean\", \"pre.layer3.4.bn1.running_var\", \"pre.layer3.4.bn1.num_batches_tracked\", \"pre.layer3.4.conv2.weight\", \"pre.layer3.4.bn2.weight\", \"pre.layer3.4.bn2.bias\", \"pre.layer3.4.bn2.running_mean\", \"pre.layer3.4.bn2.running_var\", \"pre.layer3.4.bn2.num_batches_tracked\", \"pre.layer3.5.conv1.weight\", \"pre.layer3.5.bn1.weight\", \"pre.layer3.5.bn1.bias\", \"pre.layer3.5.bn1.running_mean\", \"pre.layer3.5.bn1.running_var\", \"pre.layer3.5.bn1.num_batches_tracked\", \"pre.layer3.5.conv2.weight\", \"pre.layer3.5.bn2.weight\", \"pre.layer3.5.bn2.bias\", \"pre.layer3.5.bn2.running_mean\", \"pre.layer3.5.bn2.running_var\", \"pre.layer3.5.bn2.num_batches_tracked\", \"pre.layer4.0.conv1.weight\", \"pre.layer4.0.bn1.weight\", \"pre.layer4.0.bn1.bias\", \"pre.layer4.0.bn1.running_mean\", \"pre.layer4.0.bn1.running_var\", \"pre.layer4.0.bn1.num_batches_tracked\", \"pre.layer4.0.conv2.weight\", \"pre.layer4.0.bn2.weight\", \"pre.layer4.0.bn2.bias\", \"pre.layer4.0.bn2.running_mean\", \"pre.layer4.0.bn2.running_var\", \"pre.layer4.0.bn2.num_batches_tracked\", \"pre.layer4.0.downsample.0.weight\", \"pre.layer4.0.downsample.1.weight\", \"pre.layer4.0.downsample.1.bias\", \"pre.layer4.0.downsample.1.running_mean\", \"pre.layer4.0.downsample.1.running_var\", \"pre.layer4.0.downsample.1.num_batches_tracked\", \"pre.layer4.1.conv1.weight\", \"pre.layer4.1.bn1.weight\", \"pre.layer4.1.bn1.bias\", \"pre.layer4.1.bn1.running_mean\", \"pre.layer4.1.bn1.running_var\", \"pre.layer4.1.bn1.num_batches_tracked\", \"pre.layer4.1.conv2.weight\", \"pre.layer4.1.bn2.weight\", \"pre.layer4.1.bn2.bias\", \"pre.layer4.1.bn2.running_mean\", \"pre.layer4.1.bn2.running_var\", \"pre.layer4.1.bn2.num_batches_tracked\", \"pre.layer4.2.conv1.weight\", \"pre.layer4.2.bn1.weight\", \"pre.layer4.2.bn1.bias\", \"pre.layer4.2.bn1.running_mean\", \"pre.layer4.2.bn1.running_var\", \"pre.layer4.2.bn1.num_batches_tracked\", \"pre.layer4.2.conv2.weight\", \"pre.layer4.2.bn2.weight\", \"pre.layer4.2.bn2.bias\", \"pre.layer4.2.bn2.running_mean\", \"pre.layer4.2.bn2.running_var\", \"pre.layer4.2.bn2.num_batches_tracked\", \"fc1.0.weight\", \"fc1.0.bias\", \"fc1.2.weight\", \"fc1.2.bias\". ",
     "output_type": "error",
     "traceback": [
      "\u001b[1;31m---------------------------------------------------------------------------\u001b[0m",
      "\u001b[1;31mRuntimeError\u001b[0m                              Traceback (most recent call last)",
      "\u001b[1;32m<ipython-input-9-50e9da6eddb1>\u001b[0m in \u001b[0;36m<module>\u001b[1;34m\u001b[0m\n\u001b[0;32m      1\u001b[0m \u001b[0mnet\u001b[0m \u001b[1;33m=\u001b[0m \u001b[0mSiameseNetwork\u001b[0m\u001b[1;33m(\u001b[0m\u001b[1;33m)\u001b[0m \u001b[1;31m#定义模型且移至GPU\u001b[0m\u001b[1;33m\u001b[0m\u001b[1;33m\u001b[0m\u001b[0m\n\u001b[0;32m      2\u001b[0m \u001b[0mPATH\u001b[0m \u001b[1;33m=\u001b[0m \u001b[1;34m\"./my_model/test1_conLoss_rmac_L=2_UcRemote_resnet34_fine-tune.pt\"\u001b[0m\u001b[1;33m\u001b[0m\u001b[1;33m\u001b[0m\u001b[0m\n\u001b[1;32m----> 3\u001b[1;33m \u001b[0mpretrained_net\u001b[0m\u001b[1;33m.\u001b[0m\u001b[0mload_state_dict\u001b[0m\u001b[1;33m(\u001b[0m\u001b[0mtorch\u001b[0m\u001b[1;33m.\u001b[0m\u001b[0mload\u001b[0m\u001b[1;33m(\u001b[0m\u001b[0mPATH\u001b[0m\u001b[1;33m)\u001b[0m\u001b[1;33m)\u001b[0m\u001b[1;33m\u001b[0m\u001b[1;33m\u001b[0m\u001b[0m\n\u001b[0m\u001b[0;32m      4\u001b[0m \u001b[1;31m# net\u001b[0m\u001b[1;33m\u001b[0m\u001b[1;33m\u001b[0m\u001b[1;33m\u001b[0m\u001b[0m\n",
      "\u001b[1;32mE:\\181818\\Anaconda\\lib\\site-packages\\torch\\nn\\modules\\module.py\u001b[0m in \u001b[0;36mload_state_dict\u001b[1;34m(self, state_dict, strict)\u001b[0m\n\u001b[0;32m    767\u001b[0m         \u001b[1;32mif\u001b[0m \u001b[0mlen\u001b[0m\u001b[1;33m(\u001b[0m\u001b[0merror_msgs\u001b[0m\u001b[1;33m)\u001b[0m \u001b[1;33m>\u001b[0m \u001b[1;36m0\u001b[0m\u001b[1;33m:\u001b[0m\u001b[1;33m\u001b[0m\u001b[1;33m\u001b[0m\u001b[0m\n\u001b[0;32m    768\u001b[0m             raise RuntimeError('Error(s) in loading state_dict for {}:\\n\\t{}'.format(\n\u001b[1;32m--> 769\u001b[1;33m                                self.__class__.__name__, \"\\n\\t\".join(error_msgs)))\n\u001b[0m\u001b[0;32m    770\u001b[0m \u001b[1;33m\u001b[0m\u001b[0m\n\u001b[0;32m    771\u001b[0m     \u001b[1;32mdef\u001b[0m \u001b[0m_named_members\u001b[0m\u001b[1;33m(\u001b[0m\u001b[0mself\u001b[0m\u001b[1;33m,\u001b[0m \u001b[0mget_members_fn\u001b[0m\u001b[1;33m,\u001b[0m \u001b[0mprefix\u001b[0m\u001b[1;33m=\u001b[0m\u001b[1;34m''\u001b[0m\u001b[1;33m,\u001b[0m \u001b[0mrecurse\u001b[0m\u001b[1;33m=\u001b[0m\u001b[1;32mTrue\u001b[0m\u001b[1;33m)\u001b[0m\u001b[1;33m:\u001b[0m\u001b[1;33m\u001b[0m\u001b[1;33m\u001b[0m\u001b[0m\n",
      "\u001b[1;31mRuntimeError\u001b[0m: Error(s) in loading state_dict for ResNet:\n\tMissing key(s) in state_dict: \"conv1.weight\", \"bn1.weight\", \"bn1.bias\", \"bn1.running_mean\", \"bn1.running_var\", \"layer1.0.conv1.weight\", \"layer1.0.bn1.weight\", \"layer1.0.bn1.bias\", \"layer1.0.bn1.running_mean\", \"layer1.0.bn1.running_var\", \"layer1.0.conv2.weight\", \"layer1.0.bn2.weight\", \"layer1.0.bn2.bias\", \"layer1.0.bn2.running_mean\", \"layer1.0.bn2.running_var\", \"layer1.1.conv1.weight\", \"layer1.1.bn1.weight\", \"layer1.1.bn1.bias\", \"layer1.1.bn1.running_mean\", \"layer1.1.bn1.running_var\", \"layer1.1.conv2.weight\", \"layer1.1.bn2.weight\", \"layer1.1.bn2.bias\", \"layer1.1.bn2.running_mean\", \"layer1.1.bn2.running_var\", \"layer1.2.conv1.weight\", \"layer1.2.bn1.weight\", \"layer1.2.bn1.bias\", \"layer1.2.bn1.running_mean\", \"layer1.2.bn1.running_var\", \"layer1.2.conv2.weight\", \"layer1.2.bn2.weight\", \"layer1.2.bn2.bias\", \"layer1.2.bn2.running_mean\", \"layer1.2.bn2.running_var\", \"layer2.0.conv1.weight\", \"layer2.0.bn1.weight\", \"layer2.0.bn1.bias\", \"layer2.0.bn1.running_mean\", \"layer2.0.bn1.running_var\", \"layer2.0.conv2.weight\", \"layer2.0.bn2.weight\", \"layer2.0.bn2.bias\", \"layer2.0.bn2.running_mean\", \"layer2.0.bn2.running_var\", \"layer2.0.downsample.0.weight\", \"layer2.0.downsample.1.weight\", \"layer2.0.downsample.1.bias\", \"layer2.0.downsample.1.running_mean\", \"layer2.0.downsample.1.running_var\", \"layer2.1.conv1.weight\", \"layer2.1.bn1.weight\", \"layer2.1.bn1.bias\", \"layer2.1.bn1.running_mean\", \"layer2.1.bn1.running_var\", \"layer2.1.conv2.weight\", \"layer2.1.bn2.weight\", \"layer2.1.bn2.bias\", \"layer2.1.bn2.running_mean\", \"layer2.1.bn2.running_var\", \"layer2.2.conv1.weight\", \"layer2.2.bn1.weight\", \"layer2.2.bn1.bias\", \"layer2.2.bn1.running_mean\", \"layer2.2.bn1.running_var\", \"layer2.2.conv2.weight\", \"layer2.2.bn2.weight\", \"layer2.2.bn2.bias\", \"layer2.2.bn2.running_mean\", \"layer2.2.bn2.running_var\", \"layer2.3.conv1.weight\", \"layer2.3.bn1.weight\", \"layer2.3.bn1.bias\", \"layer2.3.bn1.running_mean\", \"layer2.3.bn1.running_var\", \"layer2.3.conv2.weight\", \"layer2.3.bn2.weight\", \"layer2.3.bn2.bias\", \"layer2.3.bn2.running_mean\", \"layer2.3.bn2.running_var\", \"layer3.0.conv1.weight\", \"layer3.0.bn1.weight\", \"layer3.0.bn1.bias\", \"layer3.0.bn1.running_mean\", \"layer3.0.bn1.running_var\", \"layer3.0.conv2.weight\", \"layer3.0.bn2.weight\", \"layer3.0.bn2.bias\", \"layer3.0.bn2.running_mean\", \"layer3.0.bn2.running_var\", \"layer3.0.downsample.0.weight\", \"layer3.0.downsample.1.weight\", \"layer3.0.downsample.1.bias\", \"layer3.0.downsample.1.running_mean\", \"layer3.0.downsample.1.running_var\", \"layer3.1.conv1.weight\", \"layer3.1.bn1.weight\", \"layer3.1.bn1.bias\", \"layer3.1.bn1.running_mean\", \"layer3.1.bn1.running_var\", \"layer3.1.conv2.weight\", \"layer3.1.bn2.weight\", \"layer3.1.bn2.bias\", \"layer3.1.bn2.running_mean\", \"layer3.1.bn2.running_var\", \"layer3.2.conv1.weight\", \"layer3.2.bn1.weight\", \"layer3.2.bn1.bias\", \"layer3.2.bn1.running_mean\", \"layer3.2.bn1.running_var\", \"layer3.2.conv2.weight\", \"layer3.2.bn2.weight\", \"layer3.2.bn2.bias\", \"layer3.2.bn2.running_mean\", \"layer3.2.bn2.running_var\", \"layer3.3.conv1.weight\", \"layer3.3.bn1.weight\", \"layer3.3.bn1.bias\", \"layer3.3.bn1.running_mean\", \"layer3.3.bn1.running_var\", \"layer3.3.conv2.weight\", \"layer3.3.bn2.weight\", \"layer3.3.bn2.bias\", \"layer3.3.bn2.running_mean\", \"layer3.3.bn2.running_var\", \"layer3.4.conv1.weight\", \"layer3.4.bn1.weight\", \"layer3.4.bn1.bias\", \"layer3.4.bn1.running_mean\", \"layer3.4.bn1.running_var\", \"layer3.4.conv2.weight\", \"layer3.4.bn2.weight\", \"layer3.4.bn2.bias\", \"layer3.4.bn2.running_mean\", \"layer3.4.bn2.running_var\", \"layer3.5.conv1.weight\", \"layer3.5.bn1.weight\", \"layer3.5.bn1.bias\", \"layer3.5.bn1.running_mean\", \"layer3.5.bn1.running_var\", \"layer3.5.conv2.weight\", \"layer3.5.bn2.weight\", \"layer3.5.bn2.bias\", \"layer3.5.bn2.running_mean\", \"layer3.5.bn2.running_var\", \"layer4.0.conv1.weight\", \"layer4.0.bn1.weight\", \"layer4.0.bn1.bias\", \"layer4.0.bn1.running_mean\", \"layer4.0.bn1.running_var\", \"layer4.0.conv2.weight\", \"layer4.0.bn2.weight\", \"layer4.0.bn2.bias\", \"layer4.0.bn2.running_mean\", \"layer4.0.bn2.running_var\", \"layer4.0.downsample.0.weight\", \"layer4.0.downsample.1.weight\", \"layer4.0.downsample.1.bias\", \"layer4.0.downsample.1.running_mean\", \"layer4.0.downsample.1.running_var\", \"layer4.1.conv1.weight\", \"layer4.1.bn1.weight\", \"layer4.1.bn1.bias\", \"layer4.1.bn1.running_mean\", \"layer4.1.bn1.running_var\", \"layer4.1.conv2.weight\", \"layer4.1.bn2.weight\", \"layer4.1.bn2.bias\", \"layer4.1.bn2.running_mean\", \"layer4.1.bn2.running_var\", \"layer4.2.conv1.weight\", \"layer4.2.bn1.weight\", \"layer4.2.bn1.bias\", \"layer4.2.bn1.running_mean\", \"layer4.2.bn1.running_var\", \"layer4.2.conv2.weight\", \"layer4.2.bn2.weight\", \"layer4.2.bn2.bias\", \"layer4.2.bn2.running_mean\", \"layer4.2.bn2.running_var\". \n\tUnexpected key(s) in state_dict: \"pre.conv1.weight\", \"pre.bn1.weight\", \"pre.bn1.bias\", \"pre.bn1.running_mean\", \"pre.bn1.running_var\", \"pre.bn1.num_batches_tracked\", \"pre.layer1.0.conv1.weight\", \"pre.layer1.0.bn1.weight\", \"pre.layer1.0.bn1.bias\", \"pre.layer1.0.bn1.running_mean\", \"pre.layer1.0.bn1.running_var\", \"pre.layer1.0.bn1.num_batches_tracked\", \"pre.layer1.0.conv2.weight\", \"pre.layer1.0.bn2.weight\", \"pre.layer1.0.bn2.bias\", \"pre.layer1.0.bn2.running_mean\", \"pre.layer1.0.bn2.running_var\", \"pre.layer1.0.bn2.num_batches_tracked\", \"pre.layer1.1.conv1.weight\", \"pre.layer1.1.bn1.weight\", \"pre.layer1.1.bn1.bias\", \"pre.layer1.1.bn1.running_mean\", \"pre.layer1.1.bn1.running_var\", \"pre.layer1.1.bn1.num_batches_tracked\", \"pre.layer1.1.conv2.weight\", \"pre.layer1.1.bn2.weight\", \"pre.layer1.1.bn2.bias\", \"pre.layer1.1.bn2.running_mean\", \"pre.layer1.1.bn2.running_var\", \"pre.layer1.1.bn2.num_batches_tracked\", \"pre.layer1.2.conv1.weight\", \"pre.layer1.2.bn1.weight\", \"pre.layer1.2.bn1.bias\", \"pre.layer1.2.bn1.running_mean\", \"pre.layer1.2.bn1.running_var\", \"pre.layer1.2.bn1.num_batches_tracked\", \"pre.layer1.2.conv2.weight\", \"pre.layer1.2.bn2.weight\", \"pre.layer1.2.bn2.bias\", \"pre.layer1.2.bn2.running_mean\", \"pre.layer1.2.bn2.running_var\", \"pre.layer1.2.bn2.num_batches_tracked\", \"pre.layer2.0.conv1.weight\", \"pre.layer2.0.bn1.weight\", \"pre.layer2.0.bn1.bias\", \"pre.layer2.0.bn1.running_mean\", \"pre.layer2.0.bn1.running_var\", \"pre.layer2.0.bn1.num_batches_tracked\", \"pre.layer2.0.conv2.weight\", \"pre.layer2.0.bn2.weight\", \"pre.layer2.0.bn2.bias\", \"pre.layer2.0.bn2.running_mean\", \"pre.layer2.0.bn2.running_var\", \"pre.layer2.0.bn2.num_batches_tracked\", \"pre.layer2.0.downsample.0.weight\", \"pre.layer2.0.downsample.1.weight\", \"pre.layer2.0.downsample.1.bias\", \"pre.layer2.0.downsample.1.running_mean\", \"pre.layer2.0.downsample.1.running_var\", \"pre.layer2.0.downsample.1.num_batches_tracked\", \"pre.layer2.1.conv1.weight\", \"pre.layer2.1.bn1.weight\", \"pre.layer2.1.bn1.bias\", \"pre.layer2.1.bn1.running_mean\", \"pre.layer2.1.bn1.running_var\", \"pre.layer2.1.bn1.num_batches_tracked\", \"pre.layer2.1.conv2.weight\", \"pre.layer2.1.bn2.weight\", \"pre.layer2.1.bn2.bias\", \"pre.layer2.1.bn2.running_mean\", \"pre.layer2.1.bn2.running_var\", \"pre.layer2.1.bn2.num_batches_tracked\", \"pre.layer2.2.conv1.weight\", \"pre.layer2.2.bn1.weight\", \"pre.layer2.2.bn1.bias\", \"pre.layer2.2.bn1.running_mean\", \"pre.layer2.2.bn1.running_var\", \"pre.layer2.2.bn1.num_batches_tracked\", \"pre.layer2.2.conv2.weight\", \"pre.layer2.2.bn2.weight\", \"pre.layer2.2.bn2.bias\", \"pre.layer2.2.bn2.running_mean\", \"pre.layer2.2.bn2.running_var\", \"pre.layer2.2.bn2.num_batches_tracked\", \"pre.layer2.3.conv1.weight\", \"pre.layer2.3.bn1.weight\", \"pre.layer2.3.bn1.bias\", \"pre.layer2.3.bn1.running_mean\", \"pre.layer2.3.bn1.running_var\", \"pre.layer2.3.bn1.num_batches_tracked\", \"pre.layer2.3.conv2.weight\", \"pre.layer2.3.bn2.weight\", \"pre.layer2.3.bn2.bias\", \"pre.layer2.3.bn2.running_mean\", \"pre.layer2.3.bn2.running_var\", \"pre.layer2.3.bn2.num_batches_tracked\", \"pre.layer3.0.conv1.weight\", \"pre.layer3.0.bn1.weight\", \"pre.layer3.0.bn1.bias\", \"pre.layer3.0.bn1.running_mean\", \"pre.layer3.0.bn1.running_var\", \"pre.layer3.0.bn1.num_batches_tracked\", \"pre.layer3.0.conv2.weight\", \"pre.layer3.0.bn2.weight\", \"pre.layer3.0.bn2.bias\", \"pre.layer3.0.bn2.running_mean\", \"pre.layer3.0.bn2.running_var\", \"pre.layer3.0.bn2.num_batches_tracked\", \"pre.layer3.0.downsample.0.weight\", \"pre.layer3.0.downsample.1.weight\", \"pre.layer3.0.downsample.1.bias\", \"pre.layer3.0.downsample.1.running_mean\", \"pre.layer3.0.downsample.1.running_var\", \"pre.layer3.0.downsample.1.num_batches_tracked\", \"pre.layer3.1.conv1.weight\", \"pre.layer3.1.bn1.weight\", \"pre.layer3.1.bn1.bias\", \"pre.layer3.1.bn1.running_mean\", \"pre.layer3.1.bn1.running_var\", \"pre.layer3.1.bn1.num_batches_tracked\", \"pre.layer3.1.conv2.weight\", \"pre.layer3.1.bn2.weight\", \"pre.layer3.1.bn2.bias\", \"pre.layer3.1.bn2.running_mean\", \"pre.layer3.1.bn2.running_var\", \"pre.layer3.1.bn2.num_batches_tracked\", \"pre.layer3.2.conv1.weight\", \"pre.layer3.2.bn1.weight\", \"pre.layer3.2.bn1.bias\", \"pre.layer3.2.bn1.running_mean\", \"pre.layer3.2.bn1.running_var\", \"pre.layer3.2.bn1.num_batches_tracked\", \"pre.layer3.2.conv2.weight\", \"pre.layer3.2.bn2.weight\", \"pre.layer3.2.bn2.bias\", \"pre.layer3.2.bn2.running_mean\", \"pre.layer3.2.bn2.running_var\", \"pre.layer3.2.bn2.num_batches_tracked\", \"pre.layer3.3.conv1.weight\", \"pre.layer3.3.bn1.weight\", \"pre.layer3.3.bn1.bias\", \"pre.layer3.3.bn1.running_mean\", \"pre.layer3.3.bn1.running_var\", \"pre.layer3.3.bn1.num_batches_tracked\", \"pre.layer3.3.conv2.weight\", \"pre.layer3.3.bn2.weight\", \"pre.layer3.3.bn2.bias\", \"pre.layer3.3.bn2.running_mean\", \"pre.layer3.3.bn2.running_var\", \"pre.layer3.3.bn2.num_batches_tracked\", \"pre.layer3.4.conv1.weight\", \"pre.layer3.4.bn1.weight\", \"pre.layer3.4.bn1.bias\", \"pre.layer3.4.bn1.running_mean\", \"pre.layer3.4.bn1.running_var\", \"pre.layer3.4.bn1.num_batches_tracked\", \"pre.layer3.4.conv2.weight\", \"pre.layer3.4.bn2.weight\", \"pre.layer3.4.bn2.bias\", \"pre.layer3.4.bn2.running_mean\", \"pre.layer3.4.bn2.running_var\", \"pre.layer3.4.bn2.num_batches_tracked\", \"pre.layer3.5.conv1.weight\", \"pre.layer3.5.bn1.weight\", \"pre.layer3.5.bn1.bias\", \"pre.layer3.5.bn1.running_mean\", \"pre.layer3.5.bn1.running_var\", \"pre.layer3.5.bn1.num_batches_tracked\", \"pre.layer3.5.conv2.weight\", \"pre.layer3.5.bn2.weight\", \"pre.layer3.5.bn2.bias\", \"pre.layer3.5.bn2.running_mean\", \"pre.layer3.5.bn2.running_var\", \"pre.layer3.5.bn2.num_batches_tracked\", \"pre.layer4.0.conv1.weight\", \"pre.layer4.0.bn1.weight\", \"pre.layer4.0.bn1.bias\", \"pre.layer4.0.bn1.running_mean\", \"pre.layer4.0.bn1.running_var\", \"pre.layer4.0.bn1.num_batches_tracked\", \"pre.layer4.0.conv2.weight\", \"pre.layer4.0.bn2.weight\", \"pre.layer4.0.bn2.bias\", \"pre.layer4.0.bn2.running_mean\", \"pre.layer4.0.bn2.running_var\", \"pre.layer4.0.bn2.num_batches_tracked\", \"pre.layer4.0.downsample.0.weight\", \"pre.layer4.0.downsample.1.weight\", \"pre.layer4.0.downsample.1.bias\", \"pre.layer4.0.downsample.1.running_mean\", \"pre.layer4.0.downsample.1.running_var\", \"pre.layer4.0.downsample.1.num_batches_tracked\", \"pre.layer4.1.conv1.weight\", \"pre.layer4.1.bn1.weight\", \"pre.layer4.1.bn1.bias\", \"pre.layer4.1.bn1.running_mean\", \"pre.layer4.1.bn1.running_var\", \"pre.layer4.1.bn1.num_batches_tracked\", \"pre.layer4.1.conv2.weight\", \"pre.layer4.1.bn2.weight\", \"pre.layer4.1.bn2.bias\", \"pre.layer4.1.bn2.running_mean\", \"pre.layer4.1.bn2.running_var\", \"pre.layer4.1.bn2.num_batches_tracked\", \"pre.layer4.2.conv1.weight\", \"pre.layer4.2.bn1.weight\", \"pre.layer4.2.bn1.bias\", \"pre.layer4.2.bn1.running_mean\", \"pre.layer4.2.bn1.running_var\", \"pre.layer4.2.bn1.num_batches_tracked\", \"pre.layer4.2.conv2.weight\", \"pre.layer4.2.bn2.weight\", \"pre.layer4.2.bn2.bias\", \"pre.layer4.2.bn2.running_mean\", \"pre.layer4.2.bn2.running_var\", \"pre.layer4.2.bn2.num_batches_tracked\", \"fc1.0.weight\", \"fc1.0.bias\", \"fc1.2.weight\", \"fc1.2.bias\". "
     ]
    }
   ],
   "source": [
    "net = SiameseNetwork() #定义模型且移至GPU\n",
    "PATH = \"./my_model/test1_conLoss_rmac_L=2_UcRemote_resnet34_fine-tune.pt\"\n",
    "pretrained_net.load_state_dict(torch.load(PATH))\n",
    "# net"
   ]
  },
  {
   "cell_type": "code",
   "execution_count": null,
   "metadata": {},
   "outputs": [],
   "source": []
  },
  {
   "cell_type": "code",
   "execution_count": null,
   "metadata": {},
   "outputs": [],
   "source": []
  },
  {
   "cell_type": "code",
   "execution_count": 75,
   "metadata": {},
   "outputs": [],
   "source": [
    "from torch.utils.data import Dataset, DataLoader\n",
    "def dataLoader():\n",
    "    normalize = transforms.Normalize(mean=[0.485, 0.456, 0.406], std=[0.229, 0.224, 0.225])\n",
    "    # mean = [0.485, 0.456, 0.406]  std = [0.229, 0.224, 0.225]\n",
    "    test_augs = transforms.Compose([\n",
    "        transforms.Resize(size=256),\n",
    "        transforms.CenterCrop(size=224),\n",
    "        transforms.ToTensor(),\n",
    "        normalize\n",
    "    ])\n",
    "    Gallery_dataset = datasets.ImageFolder(root='../数据集/UCMerced_LandUse/data/test', transform=test_augs)\n",
    "#     Gallery_dataset = datasets.ImageFolder(root='../数据集/Google dataset of SIRI-WHU_earth_im_tiff/12class_tif', transform=test_augs)\n",
    "    return Gallery_dataset\n",
    "Gallery_dataset = dataLoader()\n",
    "Gallery_loader = DataLoader(Gallery_dataset,\n",
    "                           batch_size = 32, shuffle=False)"
   ]
  },
  {
   "cell_type": "code",
   "execution_count": null,
   "metadata": {},
   "outputs": [],
   "source": []
  },
  {
   "cell_type": "code",
   "execution_count": null,
   "metadata": {},
   "outputs": [],
   "source": []
  },
  {
   "cell_type": "code",
   "execution_count": 77,
   "metadata": {},
   "outputs": [
    {
     "ename": "RuntimeError",
     "evalue": "CUDA out of memory. Tried to allocate 98.00 MiB (GPU 0; 6.00 GiB total capacity; 4.50 GiB already allocated; 57.01 MiB free; 65.00 MiB cached)",
     "output_type": "error",
     "traceback": [
      "\u001b[1;31m---------------------------------------------------------------------------\u001b[0m",
      "\u001b[1;31mRuntimeError\u001b[0m                              Traceback (most recent call last)",
      "\u001b[1;32m<ipython-input-77-aefcd49e89be>\u001b[0m in \u001b[0;36m<module>\u001b[1;34m\u001b[0m\n\u001b[0;32m     40\u001b[0m     \u001b[0mprint\u001b[0m\u001b[1;33m(\u001b[0m\u001b[1;34m\"Load features.\"\u001b[0m\u001b[1;33m)\u001b[0m\u001b[1;33m\u001b[0m\u001b[1;33m\u001b[0m\u001b[0m\n\u001b[0;32m     41\u001b[0m \u001b[1;32melse\u001b[0m\u001b[1;33m:\u001b[0m\u001b[1;33m\u001b[0m\u001b[1;33m\u001b[0m\u001b[0m\n\u001b[1;32m---> 42\u001b[1;33m     \u001b[0mfeatures\u001b[0m \u001b[1;33m=\u001b[0m \u001b[0mextract_features\u001b[0m\u001b[1;33m(\u001b[0m\u001b[0mnet\u001b[0m\u001b[1;33m,\u001b[0m \u001b[0mGallery_loader\u001b[0m\u001b[1;33m)\u001b[0m\u001b[1;33m\u001b[0m\u001b[1;33m\u001b[0m\u001b[0m\n\u001b[0m\u001b[0;32m     43\u001b[0m     \u001b[0msave_data\u001b[0m\u001b[1;33m(\u001b[0m\u001b[0msave_path\u001b[0m\u001b[1;33m,\u001b[0m \u001b[0mfeatures\u001b[0m\u001b[1;33m)\u001b[0m\u001b[1;33m\u001b[0m\u001b[1;33m\u001b[0m\u001b[0m\n\u001b[0;32m     44\u001b[0m     \u001b[0mprint\u001b[0m\u001b[1;33m(\u001b[0m\u001b[1;34m\"Save features to %s\"\u001b[0m \u001b[1;33m%\u001b[0m \u001b[1;33m(\u001b[0m\u001b[0msave_path\u001b[0m\u001b[1;33m)\u001b[0m\u001b[1;33m)\u001b[0m\u001b[1;33m\u001b[0m\u001b[1;33m\u001b[0m\u001b[0m\n",
      "\u001b[1;32m<ipython-input-77-aefcd49e89be>\u001b[0m in \u001b[0;36mextract_features\u001b[1;34m(model, loader)\u001b[0m\n\u001b[0;32m     22\u001b[0m         \u001b[0mlabels\u001b[0m \u001b[1;33m=\u001b[0m \u001b[0mlabels\u001b[0m\u001b[1;33m.\u001b[0m\u001b[0mto\u001b[0m\u001b[1;33m(\u001b[0m\u001b[0mdevice\u001b[0m\u001b[1;33m)\u001b[0m\u001b[1;33m\u001b[0m\u001b[1;33m\u001b[0m\u001b[0m\n\u001b[0;32m     23\u001b[0m \u001b[1;33m\u001b[0m\u001b[0m\n\u001b[1;32m---> 24\u001b[1;33m         \u001b[0moutputs\u001b[0m \u001b[1;33m=\u001b[0m \u001b[0mmodel\u001b[0m\u001b[1;33m.\u001b[0m\u001b[0mforward_once\u001b[0m\u001b[1;33m(\u001b[0m\u001b[0minputs\u001b[0m\u001b[1;33m)\u001b[0m\u001b[1;33m\u001b[0m\u001b[1;33m\u001b[0m\u001b[0m\n\u001b[0m\u001b[0;32m     25\u001b[0m         \u001b[0mff\u001b[0m \u001b[1;33m=\u001b[0m \u001b[0moutputs\u001b[0m\u001b[1;33m.\u001b[0m\u001b[0mdata\u001b[0m\u001b[1;33m.\u001b[0m\u001b[0mcpu\u001b[0m\u001b[1;33m(\u001b[0m\u001b[1;33m)\u001b[0m\u001b[1;33m\u001b[0m\u001b[1;33m\u001b[0m\u001b[0m\n\u001b[0;32m     26\u001b[0m         \u001b[1;31m# norm feature\u001b[0m\u001b[1;33m\u001b[0m\u001b[1;33m\u001b[0m\u001b[1;33m\u001b[0m\u001b[0m\n",
      "\u001b[1;32m<ipython-input-54-ae291891df87>\u001b[0m in \u001b[0;36mforward_once\u001b[1;34m(self, x)\u001b[0m\n\u001b[0;32m     15\u001b[0m \u001b[1;33m\u001b[0m\u001b[0m\n\u001b[0;32m     16\u001b[0m     \u001b[1;32mdef\u001b[0m \u001b[0mforward_once\u001b[0m\u001b[1;33m(\u001b[0m\u001b[0mself\u001b[0m\u001b[1;33m,\u001b[0m \u001b[0mx\u001b[0m\u001b[1;33m)\u001b[0m\u001b[1;33m:\u001b[0m\u001b[1;33m\u001b[0m\u001b[1;33m\u001b[0m\u001b[0m\n\u001b[1;32m---> 17\u001b[1;33m         \u001b[0moutput\u001b[0m \u001b[1;33m=\u001b[0m \u001b[0mself\u001b[0m\u001b[1;33m.\u001b[0m\u001b[0mpre\u001b[0m\u001b[1;33m(\u001b[0m\u001b[0mx\u001b[0m\u001b[1;33m)\u001b[0m\u001b[1;33m\u001b[0m\u001b[1;33m\u001b[0m\u001b[0m\n\u001b[0m\u001b[0;32m     18\u001b[0m \u001b[1;31m#         output = output.view(output.size()[0], -1)\u001b[0m\u001b[1;33m\u001b[0m\u001b[1;33m\u001b[0m\u001b[1;33m\u001b[0m\u001b[0m\n\u001b[0;32m     19\u001b[0m         \u001b[0moutput\u001b[0m \u001b[1;33m=\u001b[0m \u001b[0mself\u001b[0m\u001b[1;33m.\u001b[0m\u001b[0mfc1\u001b[0m\u001b[1;33m(\u001b[0m\u001b[0moutput\u001b[0m\u001b[1;33m)\u001b[0m\u001b[1;33m\u001b[0m\u001b[1;33m\u001b[0m\u001b[0m\n",
      "\u001b[1;32mE:\\181818\\Anaconda\\lib\\site-packages\\torch\\nn\\modules\\module.py\u001b[0m in \u001b[0;36m__call__\u001b[1;34m(self, *input, **kwargs)\u001b[0m\n\u001b[0;32m    487\u001b[0m             \u001b[0mresult\u001b[0m \u001b[1;33m=\u001b[0m \u001b[0mself\u001b[0m\u001b[1;33m.\u001b[0m\u001b[0m_slow_forward\u001b[0m\u001b[1;33m(\u001b[0m\u001b[1;33m*\u001b[0m\u001b[0minput\u001b[0m\u001b[1;33m,\u001b[0m \u001b[1;33m**\u001b[0m\u001b[0mkwargs\u001b[0m\u001b[1;33m)\u001b[0m\u001b[1;33m\u001b[0m\u001b[1;33m\u001b[0m\u001b[0m\n\u001b[0;32m    488\u001b[0m         \u001b[1;32melse\u001b[0m\u001b[1;33m:\u001b[0m\u001b[1;33m\u001b[0m\u001b[1;33m\u001b[0m\u001b[0m\n\u001b[1;32m--> 489\u001b[1;33m             \u001b[0mresult\u001b[0m \u001b[1;33m=\u001b[0m \u001b[0mself\u001b[0m\u001b[1;33m.\u001b[0m\u001b[0mforward\u001b[0m\u001b[1;33m(\u001b[0m\u001b[1;33m*\u001b[0m\u001b[0minput\u001b[0m\u001b[1;33m,\u001b[0m \u001b[1;33m**\u001b[0m\u001b[0mkwargs\u001b[0m\u001b[1;33m)\u001b[0m\u001b[1;33m\u001b[0m\u001b[1;33m\u001b[0m\u001b[0m\n\u001b[0m\u001b[0;32m    490\u001b[0m         \u001b[1;32mfor\u001b[0m \u001b[0mhook\u001b[0m \u001b[1;32min\u001b[0m \u001b[0mself\u001b[0m\u001b[1;33m.\u001b[0m\u001b[0m_forward_hooks\u001b[0m\u001b[1;33m.\u001b[0m\u001b[0mvalues\u001b[0m\u001b[1;33m(\u001b[0m\u001b[1;33m)\u001b[0m\u001b[1;33m:\u001b[0m\u001b[1;33m\u001b[0m\u001b[1;33m\u001b[0m\u001b[0m\n\u001b[0;32m    491\u001b[0m             \u001b[0mhook_result\u001b[0m \u001b[1;33m=\u001b[0m \u001b[0mhook\u001b[0m\u001b[1;33m(\u001b[0m\u001b[0mself\u001b[0m\u001b[1;33m,\u001b[0m \u001b[0minput\u001b[0m\u001b[1;33m,\u001b[0m \u001b[0mresult\u001b[0m\u001b[1;33m)\u001b[0m\u001b[1;33m\u001b[0m\u001b[1;33m\u001b[0m\u001b[0m\n",
      "\u001b[1;32mE:\\181818\\Anaconda\\lib\\site-packages\\torchvision\\models\\resnet.py\u001b[0m in \u001b[0;36mforward\u001b[1;34m(self, x)\u001b[0m\n\u001b[0;32m    138\u001b[0m     \u001b[1;32mdef\u001b[0m \u001b[0mforward\u001b[0m\u001b[1;33m(\u001b[0m\u001b[0mself\u001b[0m\u001b[1;33m,\u001b[0m \u001b[0mx\u001b[0m\u001b[1;33m)\u001b[0m\u001b[1;33m:\u001b[0m\u001b[1;33m\u001b[0m\u001b[1;33m\u001b[0m\u001b[0m\n\u001b[0;32m    139\u001b[0m         \u001b[0mx\u001b[0m \u001b[1;33m=\u001b[0m \u001b[0mself\u001b[0m\u001b[1;33m.\u001b[0m\u001b[0mconv1\u001b[0m\u001b[1;33m(\u001b[0m\u001b[0mx\u001b[0m\u001b[1;33m)\u001b[0m\u001b[1;33m\u001b[0m\u001b[1;33m\u001b[0m\u001b[0m\n\u001b[1;32m--> 140\u001b[1;33m         \u001b[0mx\u001b[0m \u001b[1;33m=\u001b[0m \u001b[0mself\u001b[0m\u001b[1;33m.\u001b[0m\u001b[0mbn1\u001b[0m\u001b[1;33m(\u001b[0m\u001b[0mx\u001b[0m\u001b[1;33m)\u001b[0m\u001b[1;33m\u001b[0m\u001b[1;33m\u001b[0m\u001b[0m\n\u001b[0m\u001b[0;32m    141\u001b[0m         \u001b[0mx\u001b[0m \u001b[1;33m=\u001b[0m \u001b[0mself\u001b[0m\u001b[1;33m.\u001b[0m\u001b[0mrelu\u001b[0m\u001b[1;33m(\u001b[0m\u001b[0mx\u001b[0m\u001b[1;33m)\u001b[0m\u001b[1;33m\u001b[0m\u001b[1;33m\u001b[0m\u001b[0m\n\u001b[0;32m    142\u001b[0m         \u001b[0mx\u001b[0m \u001b[1;33m=\u001b[0m \u001b[0mself\u001b[0m\u001b[1;33m.\u001b[0m\u001b[0mmaxpool\u001b[0m\u001b[1;33m(\u001b[0m\u001b[0mx\u001b[0m\u001b[1;33m)\u001b[0m\u001b[1;33m\u001b[0m\u001b[1;33m\u001b[0m\u001b[0m\n",
      "\u001b[1;32mE:\\181818\\Anaconda\\lib\\site-packages\\torch\\nn\\modules\\module.py\u001b[0m in \u001b[0;36m__call__\u001b[1;34m(self, *input, **kwargs)\u001b[0m\n\u001b[0;32m    487\u001b[0m             \u001b[0mresult\u001b[0m \u001b[1;33m=\u001b[0m \u001b[0mself\u001b[0m\u001b[1;33m.\u001b[0m\u001b[0m_slow_forward\u001b[0m\u001b[1;33m(\u001b[0m\u001b[1;33m*\u001b[0m\u001b[0minput\u001b[0m\u001b[1;33m,\u001b[0m \u001b[1;33m**\u001b[0m\u001b[0mkwargs\u001b[0m\u001b[1;33m)\u001b[0m\u001b[1;33m\u001b[0m\u001b[1;33m\u001b[0m\u001b[0m\n\u001b[0;32m    488\u001b[0m         \u001b[1;32melse\u001b[0m\u001b[1;33m:\u001b[0m\u001b[1;33m\u001b[0m\u001b[1;33m\u001b[0m\u001b[0m\n\u001b[1;32m--> 489\u001b[1;33m             \u001b[0mresult\u001b[0m \u001b[1;33m=\u001b[0m \u001b[0mself\u001b[0m\u001b[1;33m.\u001b[0m\u001b[0mforward\u001b[0m\u001b[1;33m(\u001b[0m\u001b[1;33m*\u001b[0m\u001b[0minput\u001b[0m\u001b[1;33m,\u001b[0m \u001b[1;33m**\u001b[0m\u001b[0mkwargs\u001b[0m\u001b[1;33m)\u001b[0m\u001b[1;33m\u001b[0m\u001b[1;33m\u001b[0m\u001b[0m\n\u001b[0m\u001b[0;32m    490\u001b[0m         \u001b[1;32mfor\u001b[0m \u001b[0mhook\u001b[0m \u001b[1;32min\u001b[0m \u001b[0mself\u001b[0m\u001b[1;33m.\u001b[0m\u001b[0m_forward_hooks\u001b[0m\u001b[1;33m.\u001b[0m\u001b[0mvalues\u001b[0m\u001b[1;33m(\u001b[0m\u001b[1;33m)\u001b[0m\u001b[1;33m:\u001b[0m\u001b[1;33m\u001b[0m\u001b[1;33m\u001b[0m\u001b[0m\n\u001b[0;32m    491\u001b[0m             \u001b[0mhook_result\u001b[0m \u001b[1;33m=\u001b[0m \u001b[0mhook\u001b[0m\u001b[1;33m(\u001b[0m\u001b[0mself\u001b[0m\u001b[1;33m,\u001b[0m \u001b[0minput\u001b[0m\u001b[1;33m,\u001b[0m \u001b[0mresult\u001b[0m\u001b[1;33m)\u001b[0m\u001b[1;33m\u001b[0m\u001b[1;33m\u001b[0m\u001b[0m\n",
      "\u001b[1;32mE:\\181818\\Anaconda\\lib\\site-packages\\torch\\nn\\modules\\batchnorm.py\u001b[0m in \u001b[0;36mforward\u001b[1;34m(self, input)\u001b[0m\n\u001b[0;32m     74\u001b[0m             \u001b[0minput\u001b[0m\u001b[1;33m,\u001b[0m \u001b[0mself\u001b[0m\u001b[1;33m.\u001b[0m\u001b[0mrunning_mean\u001b[0m\u001b[1;33m,\u001b[0m \u001b[0mself\u001b[0m\u001b[1;33m.\u001b[0m\u001b[0mrunning_var\u001b[0m\u001b[1;33m,\u001b[0m \u001b[0mself\u001b[0m\u001b[1;33m.\u001b[0m\u001b[0mweight\u001b[0m\u001b[1;33m,\u001b[0m \u001b[0mself\u001b[0m\u001b[1;33m.\u001b[0m\u001b[0mbias\u001b[0m\u001b[1;33m,\u001b[0m\u001b[1;33m\u001b[0m\u001b[1;33m\u001b[0m\u001b[0m\n\u001b[0;32m     75\u001b[0m             \u001b[0mself\u001b[0m\u001b[1;33m.\u001b[0m\u001b[0mtraining\u001b[0m \u001b[1;32mor\u001b[0m \u001b[1;32mnot\u001b[0m \u001b[0mself\u001b[0m\u001b[1;33m.\u001b[0m\u001b[0mtrack_running_stats\u001b[0m\u001b[1;33m,\u001b[0m\u001b[1;33m\u001b[0m\u001b[1;33m\u001b[0m\u001b[0m\n\u001b[1;32m---> 76\u001b[1;33m             exponential_average_factor, self.eps)\n\u001b[0m\u001b[0;32m     77\u001b[0m \u001b[1;33m\u001b[0m\u001b[0m\n\u001b[0;32m     78\u001b[0m     \u001b[1;32mdef\u001b[0m \u001b[0mextra_repr\u001b[0m\u001b[1;33m(\u001b[0m\u001b[0mself\u001b[0m\u001b[1;33m)\u001b[0m\u001b[1;33m:\u001b[0m\u001b[1;33m\u001b[0m\u001b[1;33m\u001b[0m\u001b[0m\n",
      "\u001b[1;32mE:\\181818\\Anaconda\\lib\\site-packages\\torch\\nn\\functional.py\u001b[0m in \u001b[0;36mbatch_norm\u001b[1;34m(input, running_mean, running_var, weight, bias, training, momentum, eps)\u001b[0m\n\u001b[0;32m   1621\u001b[0m     return torch.batch_norm(\n\u001b[0;32m   1622\u001b[0m         \u001b[0minput\u001b[0m\u001b[1;33m,\u001b[0m \u001b[0mweight\u001b[0m\u001b[1;33m,\u001b[0m \u001b[0mbias\u001b[0m\u001b[1;33m,\u001b[0m \u001b[0mrunning_mean\u001b[0m\u001b[1;33m,\u001b[0m \u001b[0mrunning_var\u001b[0m\u001b[1;33m,\u001b[0m\u001b[1;33m\u001b[0m\u001b[1;33m\u001b[0m\u001b[0m\n\u001b[1;32m-> 1623\u001b[1;33m         \u001b[0mtraining\u001b[0m\u001b[1;33m,\u001b[0m \u001b[0mmomentum\u001b[0m\u001b[1;33m,\u001b[0m \u001b[0meps\u001b[0m\u001b[1;33m,\u001b[0m \u001b[0mtorch\u001b[0m\u001b[1;33m.\u001b[0m\u001b[0mbackends\u001b[0m\u001b[1;33m.\u001b[0m\u001b[0mcudnn\u001b[0m\u001b[1;33m.\u001b[0m\u001b[0menabled\u001b[0m\u001b[1;33m\u001b[0m\u001b[1;33m\u001b[0m\u001b[0m\n\u001b[0m\u001b[0;32m   1624\u001b[0m     )\n\u001b[0;32m   1625\u001b[0m \u001b[1;33m\u001b[0m\u001b[0m\n",
      "\u001b[1;31mRuntimeError\u001b[0m: CUDA out of memory. Tried to allocate 98.00 MiB (GPU 0; 6.00 GiB total capacity; 4.50 GiB already allocated; 57.01 MiB free; 65.00 MiB cached)"
     ]
    }
   ],
   "source": [
    "# save to loacl file\n",
    "# save_path = './features/maxPooling_UcRemote21-train-resnet'\n",
    "# save_path = './features/gem_p=3_UcRemote21-train-resnet'\n",
    "save_path = './features/test1_conLoss_rmac_L=2_UcRemote21-train-resnet'\n",
    "\n",
    "def save_data(file, data):\n",
    "    f = open(file, 'wb+')\n",
    "    pk.dump(data, f, 0)\n",
    "    f.close()\n",
    "\n",
    "\n",
    "def extract_features(model, loader):\n",
    "    since = time.time()\n",
    "    features = torch.FloatTensor()\n",
    "         \n",
    "    model.eval()\n",
    "\n",
    "    # Iterate over data.\n",
    "    for inputs, labels in loader:\n",
    "\n",
    "        inputs = inputs.to(device)\n",
    "        labels = labels.to(device)\n",
    "\n",
    "        outputs = model.forward_once(inputs)\n",
    "        ff = outputs.data.cpu()\n",
    "        # norm feature\n",
    "        fnorm = torch.norm(ff, p=2, dim=1, keepdim=True)\n",
    "        ff = ff.div(fnorm.expand_as(ff))\n",
    "        features = torch.cat((features, ff), 0)\n",
    "\n",
    "    time_elapsed = time.time() - since\n",
    "    print('Feature extraction complete in {:.0f}m {:.0f}s'.format(time_elapsed // 60, time_elapsed % 60))\n",
    "    \n",
    "    return features\n",
    "\n",
    "if os.path.exists(save_path):\n",
    "    fo = open(save_path, 'rb')\n",
    "    features = pk.load(fo, encoding='bytes')\n",
    "    fo.close()\n",
    "    print(\"Load features.\")\n",
    "else:\n",
    "    features = extract_features(net, Gallery_loader)\n",
    "    save_data(save_path, features)\n",
    "    print(\"Save features to %s\" % (save_path))"
   ]
  },
  {
   "cell_type": "code",
   "execution_count": null,
   "metadata": {},
   "outputs": [],
   "source": []
  }
 ],
 "metadata": {
  "kernelspec": {
   "display_name": "Python 3",
   "language": "python",
   "name": "python3"
  },
  "language_info": {
   "codemirror_mode": {
    "name": "ipython",
    "version": 3
   },
   "file_extension": ".py",
   "mimetype": "text/x-python",
   "name": "python",
   "nbconvert_exporter": "python",
   "pygments_lexer": "ipython3",
   "version": "3.7.1"
  }
 },
 "nbformat": 4,
 "nbformat_minor": 4
}
